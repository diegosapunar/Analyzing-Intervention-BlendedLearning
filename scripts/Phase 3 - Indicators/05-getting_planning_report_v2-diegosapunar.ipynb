{
 "cells": [
  {
   "cell_type": "markdown",
   "metadata": {},
   "source": [
    "# (11) Getting Planning Report"
   ]
  },
  {
   "cell_type": "markdown",
   "metadata": {},
   "source": [
    "* **author** = Diego Sapunar-Opazo\n",
    "* **copyright** = Copyright 2019, Thesis M.Sc. Diego Sapunar - Pontificia Universidad Católica de Chile\n",
    "* **credits** = Diego Sapunar-Opazo, Ronald Perez, Mar Perez-Sanagustin, Jorge Maldonado-Mahauad\n",
    "* **maintainer** = Diego Sapunar-Opazo\n",
    "* **email** = dasapunar@uc.cl\n",
    "* **status** = Dev"
   ]
  },
  {
   "cell_type": "markdown",
   "metadata": {},
   "source": [
    "This scripts gets the clean week report of section 1, students_NMP_id and the clean NMP_goals, and creates a csv file:\n",
    "\n",
    "(1) **num_alumno**, which corresponds to the internal face-to-face students' id\n",
    "\n",
    "(2) **week**, which corresponds to the week\n",
    "\n",
    "(3) **planning_hours**, which corresponds to the student's planning hours for the next week\n",
    "\n",
    "(4) **planning_number_videos**, which corresponds to the student's planning number of videos for the next week\n",
    "\n",
    "(5) **planning_number_quiz**, which corresponds to the student's planning number of quiz for the next week"
   ]
  },
  {
   "cell_type": "markdown",
   "metadata": {},
   "source": [
    "## Part 0: Import Packages"
   ]
  },
  {
   "cell_type": "code",
   "execution_count": 1,
   "metadata": {},
   "outputs": [],
   "source": [
    "# data analysis and wrangling\n",
    "import pandas as pd\n",
    "import numpy as np"
   ]
  },
  {
   "cell_type": "markdown",
   "metadata": {},
   "source": [
    "## Part 1: Getting the Data"
   ]
  },
  {
   "cell_type": "code",
   "execution_count": 2,
   "metadata": {},
   "outputs": [],
   "source": [
    "def read_data(path):\n",
    "    '''\n",
    "    Read a .csv file and convert it in a Pandas DataFrame.\n",
    "    \n",
    "    Input:\n",
    "    path - String: path where the .csv is located.\n",
    "    \n",
    "    Output:\n",
    "    Pandas DataFrame: .csv in the Pandas DataFrame format.\n",
    "    '''\n",
    "    \n",
    "    return pd.read_csv(path)"
   ]
  },
  {
   "cell_type": "markdown",
   "metadata": {},
   "source": [
    "## Part 2: Data Preprocessing & Wrangling"
   ]
  },
  {
   "cell_type": "code",
   "execution_count": 3,
   "metadata": {},
   "outputs": [],
   "source": [
    "def merging(df1, df2, variable1, variable2):\n",
    "    '''\n",
    "    Merge df1 and df2 over the variable.\n",
    "    \n",
    "    Input:\n",
    "    df1 - Pandas DataFrame\n",
    "    df2 - Pandas DataFrame\n",
    "    variable - String: name of the column to use as pivot.\n",
    "    \n",
    "    Output:\n",
    "    Pandas DataFrame\n",
    "    '''\n",
    "\n",
    "    df1.dropna(inplace=True)\n",
    "    df2.dropna(inplace=True)\n",
    "    \n",
    "    # getting same types\n",
    "    df1[variable1] = df1[variable1].astype('str')\n",
    "    df2[variable2] = df2[variable2].astype('str')\n",
    "    \n",
    "    return pd.merge(left=df1, right=df2, left_on=variable1, right_on=variable2)\n",
    "    "
   ]
  },
  {
   "cell_type": "markdown",
   "metadata": {},
   "source": [
    "## Part 3: Export Data"
   ]
  },
  {
   "cell_type": "code",
   "execution_count": 4,
   "metadata": {},
   "outputs": [],
   "source": [
    "def export_data(df, path):\n",
    "    '''\n",
    "    Export df in .csv fole to the path.\n",
    "    \n",
    "    Input:\n",
    "    df - Pandas DataFrame: dataframe to be exported.\n",
    "    path - String: path where the .csv will be exported.\n",
    "    '''\n",
    "    \n",
    "    df.to_csv(path, index=False)"
   ]
  },
  {
   "cell_type": "markdown",
   "metadata": {},
   "source": [
    "## Part 4: Main"
   ]
  },
  {
   "cell_type": "code",
   "execution_count": 5,
   "metadata": {},
   "outputs": [],
   "source": [
    "# getting data and slicing\n",
    "df_report_sec1 = read_data('../../data/clean_data/week_report_sec1.csv').loc[:,['num_alumno', \n",
    "                                                                             'next_week', \n",
    "                                                                             'planning_hours', \n",
    "                                                                             'planning_number_videos',\n",
    "                                                                             'planning_number_quiz']].rename({'next_week':\n",
    "                                                                                                              'week'}, \n",
    "                                                                                                             axis=1)\n",
    "df_NMP_planning = read_data('../../data/clean_data/NMP_goals.csv')\n",
    "df_NMP_id = read_data('../../data/clean_data/students_NMP_id.csv')\n",
    "\n",
    "# keeping rows for experiment.\n",
    "# dropping for both section week 5, 8 and week 15\n",
    "# dropping for sec1 week 12\n",
    "# dropping for sec2 week 13 anf week 16\n",
    "indexDrop = df_report_sec1[(df_report_sec1['week'] == 5) | \n",
    "                           (df_report_sec1['week'] == 9) | \n",
    "                           (df_report_sec1['week'] == 12) | \n",
    "                           (df_report_sec1['week'] == 15)].index\n",
    "df_report_sec1.drop(indexDrop, inplace=True)\n",
    "indexDrop = df_NMP_planning[(df_NMP_planning['week'] == 5) |\n",
    "                           (df_NMP_planning['week'] == 9) | \n",
    "                           (df_NMP_planning['week'] == 13) | \n",
    "                           (df_NMP_planning['week'] == 15) | \n",
    "                           (df_NMP_planning['week'] == 16)].index\n",
    "df_NMP_planning.drop(indexDrop, inplace=True)\n",
    "\n",
    "# replacing columns\n",
    "_cols_to_replace = {\n",
    "    6: 5,\n",
    "    7: 6,\n",
    "    8: 7,\n",
    "    10: 8,\n",
    "    11: 9,\n",
    "    13: 10,\n",
    "    12: 10,\n",
    "    14: 11\n",
    "}\n",
    "df_report_sec1.replace(_cols_to_replace, inplace=True)\n",
    "df_NMP_planning.replace(_cols_to_replace, inplace=True)\n",
    "\n",
    "# Adding num_alumno\n",
    "df_report_sec2 = merging(df_NMP_id, df_NMP_planning, \n",
    "                         'NMP_user_id', 'NMP_user_id').drop('NMP_user_id', axis=1)\n",
    "\n",
    "# cleaning memory\n",
    "del df_NMP_planning\n",
    "del df_NMP_id\n",
    "\n",
    "# concat\n",
    "df_planning_report = pd.concat([df_report_sec1, df_report_sec2], ignore_index=True)\n",
    "\n",
    "df_planning_report = pd.merge(left=df_planning_report[['num_alumno', 'week']].drop_duplicates(), left_index=True, \n",
    "         right=df_planning_report, right_index=True, how='left').drop(['num_alumno_y', 'week_y'], axis=1).rename({\n",
    "                                                                                                                    'num_alumno_x': 'num_alumno',\n",
    "                                                                                                                    'week_x': 'week'\n",
    "                                                                                                                }, axis=1)\n",
    "\n",
    "# export data\n",
    "export_data(df_planning_report, '../../data/final_data/planning_report.csv')\n",
    "\n",
    "del df_report_sec1\n",
    "del df_report_sec2"
   ]
  },
  {
   "cell_type": "code",
   "execution_count": null,
   "metadata": {},
   "outputs": [],
   "source": []
  },
  {
   "cell_type": "code",
   "execution_count": null,
   "metadata": {},
   "outputs": [],
   "source": []
  }
 ],
 "metadata": {
  "kernelspec": {
   "display_name": "Python 3",
   "language": "python",
   "name": "python3"
  },
  "language_info": {
   "codemirror_mode": {
    "name": "ipython",
    "version": 3
   },
   "file_extension": ".py",
   "mimetype": "text/x-python",
   "name": "python",
   "nbconvert_exporter": "python",
   "pygments_lexer": "ipython3",
   "version": "3.7.1"
  }
 },
 "nbformat": 4,
 "nbformat_minor": 2
}
