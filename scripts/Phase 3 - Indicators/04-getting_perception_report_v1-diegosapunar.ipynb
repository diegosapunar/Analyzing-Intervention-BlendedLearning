{
 "cells": [
  {
   "cell_type": "markdown",
   "metadata": {},
   "source": [
    "# (10) Getting Perception Report"
   ]
  },
  {
   "cell_type": "markdown",
   "metadata": {},
   "source": [
    "* **author** = Diego Sapunar-Opazo\n",
    "* **copyright** = Copyright 2019, Thesis M.Sc. Diego Sapunar - Pontificia Universidad Católica de Chile\n",
    "* **credits** = Diego Sapunar-Opazo, Ronald Perez, Mar Perez-Sanagustin, Jorge Maldonado-Mahauad\n",
    "* **maintainer** = Diego Sapunar-Opazo\n",
    "* **email** = dasapunar@uc.cl\n",
    "* **status** = Dev"
   ]
  },
  {
   "cell_type": "markdown",
   "metadata": {},
   "source": [
    "This script get the clean report for each section, and creates a csv file:\n",
    "\n",
    "(1) **num_alumno**, which corresponds to the internal face-to-face students' id\n",
    "\n",
    "(2) **week**, which corresponds to the week\n",
    "\n",
    "(4) **perception_lecture_score**, which corresponds to the student's perception of lectures last week\n",
    "\n",
    "(5) **perception_comprehension_score**, which corresponds to the student's comprehension of the last week topic"
   ]
  },
  {
   "cell_type": "markdown",
   "metadata": {},
   "source": [
    "## Part 0: Import Packages"
   ]
  },
  {
   "cell_type": "code",
   "execution_count": 1,
   "metadata": {},
   "outputs": [],
   "source": [
    "# data analysis and wrangling\n",
    "import pandas as pd\n",
    "import numpy as np"
   ]
  },
  {
   "cell_type": "markdown",
   "metadata": {},
   "source": [
    "## Part 1: Getting the Data"
   ]
  },
  {
   "cell_type": "code",
   "execution_count": 2,
   "metadata": {},
   "outputs": [],
   "source": [
    "def read_data(path):\n",
    "    '''\n",
    "    Read a .csv file and convert it in a Pandas DataFrame.\n",
    "    \n",
    "    Input:\n",
    "    path - String: path where the .csv is located.\n",
    "    \n",
    "    Output:\n",
    "    Pandas DataFrame: .csv in the Pandas DataFrame format.\n",
    "    '''\n",
    "    \n",
    "    return pd.read_csv(path)"
   ]
  },
  {
   "cell_type": "markdown",
   "metadata": {},
   "source": [
    "## Part 2: Export Data"
   ]
  },
  {
   "cell_type": "code",
   "execution_count": 3,
   "metadata": {},
   "outputs": [],
   "source": [
    "def export_data(df, path):\n",
    "    '''\n",
    "    Export df in .csv fole to the path.\n",
    "    \n",
    "    Input:\n",
    "    df - Pandas DataFrame: dataframe to be exported.\n",
    "    path - String: path where the .csv will be exported.\n",
    "    '''\n",
    "    \n",
    "    df.to_csv(path, index=False)"
   ]
  },
  {
   "cell_type": "markdown",
   "metadata": {},
   "source": [
    "## Part 3: Main"
   ]
  },
  {
   "cell_type": "code",
   "execution_count": 7,
   "metadata": {},
   "outputs": [],
   "source": [
    "_report_sec1_path = '../../data/clean_data/week_report_sec1.csv'\n",
    "_report_sec2_path = '../../data/clean_data/week_report_sec2.csv'\n",
    "\n",
    "# getting data and slicing\n",
    "df_report_sec1 = read_data(_report_sec1_path).iloc[:,[0,1]+[i for i in range(7,9)]].rename({'last_week':'week'}, axis=1)\n",
    "df_report_sec2 = read_data(_report_sec2_path).iloc[:,[0,1]+[i for i in range(7,9)]].rename({'last_week':'week'}, axis=1)\n",
    "\n",
    "# keeping rows for experiment.\n",
    "# (source: https://thispointer.com/python-pandas-how-to-drop-rows-in-dataframe-by-conditions-on-column-values/)\n",
    "\n",
    "# dropping for both section week 5 and week 8 \n",
    "# dropping for sec1 week 12\n",
    "# dropping for sec2 week 13\n",
    "indexDrop = df_report_sec1[(df_report_sec1['week'] == 0) |\n",
    "                           (df_report_sec1['week'] == 5) | \n",
    "                           (df_report_sec1['week'] == 9) | \n",
    "                           (df_report_sec1['week'] == 12)].index\n",
    "df_report_sec1.drop(indexDrop, inplace=True)\n",
    "indexDrop = df_report_sec2[(df_report_sec2['week'] == 0) |\n",
    "                           (df_report_sec2['week'] == 5) | \n",
    "                           (df_report_sec2['week'] == 9) | \n",
    "                           (df_report_sec2['week'] == 13)].index\n",
    "df_report_sec2.drop(indexDrop, inplace=True)\n",
    "\n",
    "# replacing columns\n",
    "_cols_to_replace = {\n",
    "    6: 5,\n",
    "    7: 6,\n",
    "    8: 7,\n",
    "    10: 8,\n",
    "    11: 9,\n",
    "    13: 10,\n",
    "    12: 10,\n",
    "    14: 11\n",
    "}\n",
    "df_report_sec1.replace(_cols_to_replace, inplace=True)\n",
    "df_report_sec2.replace(_cols_to_replace, inplace=True)\n",
    "\n",
    "# concat\n",
    "df_perception_report = pd.concat([df_report_sec1, df_report_sec2], ignore_index=True)\n",
    "\n",
    "# export data\n",
    "export_data(df_perception_report, '../../data/final_data/perception_report.csv')\n",
    "\n",
    "# cleaning memory\n",
    "del df_report_sec1\n",
    "del df_report_sec2"
   ]
  },
  {
   "cell_type": "code",
   "execution_count": null,
   "metadata": {},
   "outputs": [],
   "source": []
  }
 ],
 "metadata": {
  "kernelspec": {
   "display_name": "Python 3",
   "language": "python",
   "name": "python3"
  },
  "language_info": {
   "codemirror_mode": {
    "name": "ipython",
    "version": 3
   },
   "file_extension": ".py",
   "mimetype": "text/x-python",
   "name": "python",
   "nbconvert_exporter": "python",
   "pygments_lexer": "ipython3",
   "version": "3.7.1"
  }
 },
 "nbformat": 4,
 "nbformat_minor": 2
}
