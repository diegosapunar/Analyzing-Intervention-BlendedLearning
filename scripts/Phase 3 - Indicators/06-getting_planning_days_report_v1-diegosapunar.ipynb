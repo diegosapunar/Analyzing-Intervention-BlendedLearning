{
 "cells": [
  {
   "cell_type": "markdown",
   "metadata": {},
   "source": [
    "# (12) Getting Planning Days Report"
   ]
  },
  {
   "cell_type": "markdown",
   "metadata": {},
   "source": [
    "* **author** = Diego Sapunar-Opazo\n",
    "* **copyright** = Copyright 2019, Thesis M.Sc. Diego Sapunar - Pontificia Universidad Católica de Chile\n",
    "* **credits** = Diego Sapunar-Opazo, Ronald Perez, Mar Perez-Sanagustin, Jorge Maldonado-Mahauad\n",
    "* **maintainer** = Diego Sapunar-Opazo\n",
    "* **email** = dasapunar@uc.cl\n",
    "* **status** = Dev"
   ]
  },
  {
   "cell_type": "markdown",
   "metadata": {},
   "source": [
    "This script gets the clean week report of section 1 and the clean NMP_goals, and creates a csv file:\n",
    "\n",
    "(1) **num_alumno**, which corresponds to the internal face-to-face students' id\n",
    "\n",
    "(2) **week**, which corresponds to the week\n",
    "\n",
    "(3) **planning_Mon**, which corresponds that the student planed to work on Monday.\n",
    "\n",
    "(4) **planning_Tue**, which corresponds that the student planed to work on Tuesday.\n",
    "\n",
    "(5) **planning_Wed**, which corresponds that the student planed to work on Wednesday.\n",
    "\n",
    "(6) **planning_Thu**, which corresponds that the student planed to work on Thursday.\n",
    "\n",
    "(7) **planning_Fri**, which corresponds that the student planed to work on Friday.\n",
    "\n",
    "(8) **planning_Sat**, which corresponds that the student planed to work on Saturday.\n",
    "\n",
    "(9) **planning_Sat**, which corresponds that the student planed to work on Sunday."
   ]
  },
  {
   "cell_type": "code",
   "execution_count": null,
   "metadata": {},
   "outputs": [],
   "source": []
  },
  {
   "cell_type": "code",
   "execution_count": null,
   "metadata": {},
   "outputs": [],
   "source": []
  }
 ],
 "metadata": {
  "kernelspec": {
   "display_name": "Python 3",
   "language": "python",
   "name": "python3"
  },
  "language_info": {
   "codemirror_mode": {
    "name": "ipython",
    "version": 3
   },
   "file_extension": ".py",
   "mimetype": "text/x-python",
   "name": "python",
   "nbconvert_exporter": "python",
   "pygments_lexer": "ipython3",
   "version": "3.7.1"
  }
 },
 "nbformat": 4,
 "nbformat_minor": 2
}
