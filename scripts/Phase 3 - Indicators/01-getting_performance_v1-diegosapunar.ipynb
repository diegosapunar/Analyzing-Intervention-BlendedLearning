{
 "cells": [
  {
   "cell_type": "markdown",
   "metadata": {},
   "source": [
    "# (5) Getting Performance"
   ]
  },
  {
   "cell_type": "markdown",
   "metadata": {},
   "source": [
    "* **author** = Diego Sapunar-Opazo\n",
    "* **copyright** = Copyright 2019, Thesis M.Sc. Diego Sapunar - Pontificia Universidad Católica de Chile\n",
    "* **credits** = Diego Sapunar-Opazo, Ronald Perez, Mar Perez-Sanagustin, Jorge Maldonado-Mahauad\n",
    "* **maintainer** = Diego Sapunar-Opazo\n",
    "* **email** = dasapunar@uc.cl\n",
    "* **status** = Dev"
   ]
  },
  {
   "cell_type": "markdown",
   "metadata": {},
   "source": [
    "This script gets the original students' performance face-to-face component to create a .csv file with these columns:\n",
    "\n",
    "(1) **num_alumno**, which corresponds to the internal face-to-face students' id and \n",
    "\n",
    "(2) **I1**, which corresponds to the grade obtained in the test number 1\n",
    "\n",
    "(3) **I2**, which corresponds to the grade obtained in the test number 2\n",
    "\n",
    "(4) **I3**, which corresponds to the grade obtained in the test number 3\n",
    "\n",
    "(5) **FC1**, which corresponds to the grade obtained in the Flipped Classroom number 1\n",
    "\n",
    "(6) **FC2**, which corresponds to the grade obtained in the Flipped Classroom number 2\n",
    "\n",
    "(7) **FC3**, which corresponds to the grade obtained in the Flipped Classroom number 3\n",
    "\n",
    "(8) **FC4**, which corresponds to the grade obtained in the Flipped Classroom number 4\n",
    "\n",
    "(9) **FC5**, which corresponds to the grade obtained in the Flipped Classroom number 5\n",
    "\n",
    "(10) **FC6**, which corresponds to the grade obtained in the Flipped Classroom number 6\n",
    "\n",
    "(11) **FC7**, which corresponds to the grade obtained in the Flipped Classroom number 7\n",
    "\n",
    "(12) **FC8**, which corresponds to the grade obtained in the Flipped Classroom number 8\n",
    "\n",
    "(13) **FC9**, which corresponds to the grade obtained in the Flipped Classroom number 9\n",
    "\n",
    "(14) **FC10**, which corresponds to the grade obtained in the Flipped Classroom number 10\n",
    "\n",
    "(15) **FC11**, which corresponds to the grade obtained in the Flipped Classroom number 11\n",
    "\n",
    "(16) **report**, which corresponds to the mean grade of the weekly report\n",
    "\n",
    "(17) **workshops**, which corresponds to the mean grade obtained in the workshops\n",
    "\n",
    "(18) **lecture_participation**, which corresponds to the mean grade of participating in the lectures\n",
    "\n",
    "(19) **NF**, which corresponds to the final grade obtained in the course\n",
    "\n",
    "The final exam is not included, because it was optional, and for the students who did it, used that grade to replace the worst test grade... this scripts takes that in consideration\n",
    "\n",
    "Finally, this scripts makes an reshaping of the datae building a .csv with:\n",
    "\n",
    "(1) **num_alumno**, which corresponds to the internal face-to-face students' id and \n",
    "\n",
    "(2) **week**, which corresponds to the week\n",
    "\n",
    "(3) **FC**, which corresponds to the grade obtained in the Flipped Classroom that week"
   ]
  },
  {
   "cell_type": "markdown",
   "metadata": {},
   "source": [
    "## Part 0: Import Packages"
   ]
  },
  {
   "cell_type": "code",
   "execution_count": 1,
   "metadata": {},
   "outputs": [],
   "source": [
    "# data analysis and wrangling\n",
    "import pandas as pd\n",
    "import numpy as np"
   ]
  },
  {
   "cell_type": "markdown",
   "metadata": {},
   "source": [
    "## Part 1: Getting the Data"
   ]
  },
  {
   "cell_type": "code",
   "execution_count": 2,
   "metadata": {},
   "outputs": [],
   "source": [
    "def read_data(path):\n",
    "    '''\n",
    "    Read a .csv file and convert it in a Pandas DataFrame.\n",
    "    \n",
    "    Input:\n",
    "    path - String: path where the .csv is located.\n",
    "    \n",
    "    Output:\n",
    "    Pandas DataFrame: .csv in the Pandas DataFrame format.\n",
    "    '''\n",
    "    return pd.read_csv(path)"
   ]
  },
  {
   "cell_type": "markdown",
   "metadata": {},
   "source": [
    "## Part 2: Data Preprocessing"
   ]
  },
  {
   "cell_type": "code",
   "execution_count": 99,
   "metadata": {},
   "outputs": [],
   "source": [
    "def preprocc_data(path1, path2, columns_to_rename=False):\n",
    "    '''\n",
    "    From two dataframe concatenate them, select columns and rename columns\n",
    "    \n",
    "    Input: \n",
    "    path1 - String: path to the first dataframe.\n",
    "    path2 - String: path to the second dataframe.\n",
    "    columns_to_rename - Dict: Columns to rename, Key: original name, Value: new name.\n",
    "    \n",
    "    Output:\n",
    "    df - Pandas DataFrame: the dataframe already cleaned.\n",
    "    '''\n",
    "    \n",
    "    df = pd.concat([read_data(path1), read_data(path2)])\n",
    "\n",
    "    # Replacing Tests with Exam\n",
    "    for i, row in df.iterrows():\n",
    "        if row[4] != 'No rendido':\n",
    "            index_min = np.argmin([row[1], row[2], row[3]])\n",
    "            if index_min == 0: column_min = 'I1'\n",
    "            elif index_min == 1: column_min = 'I2'\n",
    "            else: column_min = 'I3'\n",
    "            if float(row[4]) > row[index_min + 1]:\n",
    "                df.loc[i, column_min] = float(row[4])\n",
    "\n",
    "    # Dropping columns\n",
    "    df = df.iloc[:,[i for i in range(4)] + [i for i in range(5,16)] + [17, 18, 19, 26]]\n",
    "\n",
    "    # Renaming columns\n",
    "    df.rename(_columns_to_rename, axis=1, inplace=True)\n",
    "    \n",
    "    return df"
   ]
  },
  {
   "cell_type": "code",
   "execution_count": 128,
   "metadata": {},
   "outputs": [],
   "source": [
    "def melting(df):\n",
    "    '''\n",
    "    Melt the dataframe... getting the shape that I need\n",
    "    \n",
    "    Input: \n",
    "    df - Pandas DataFrame: df to be melted\n",
    "    \n",
    "    Output:\n",
    "    df_performance_FC - Pandas DataFrame: the dataframe already melted.\n",
    "    '''\n",
    "    \n",
    "    df_performance_FC = pd.melt(df, id_vars=['num_alumno'], \n",
    "                            value_vars=['FC' + str(i) for i in range(1,12)], \n",
    "                            var_name='week', \n",
    "                            value_name='FC')\n",
    "\n",
    "    df_performance_FC.replace({'FC' + str(i): i for i in range(1,12)}, \n",
    "                          inplace=True)\n",
    "    \n",
    "    return df_performance_FC"
   ]
  },
  {
   "cell_type": "markdown",
   "metadata": {},
   "source": [
    "## Part 3: Export Data"
   ]
  },
  {
   "cell_type": "code",
   "execution_count": 100,
   "metadata": {},
   "outputs": [],
   "source": [
    "def export_data(df, path):\n",
    "    '''\n",
    "    Export df in .csv fole to the path.\n",
    "    \n",
    "    Input:\n",
    "    df - Pandas DataFrame: dataframe to be exported.\n",
    "    path - String: path where the .csv will be exported.\n",
    "    '''\n",
    "    \n",
    "    df.to_csv(path, index=False)"
   ]
  },
  {
   "cell_type": "markdown",
   "metadata": {},
   "source": [
    "## Part 4: Main"
   ]
  },
  {
   "cell_type": "code",
   "execution_count": 103,
   "metadata": {},
   "outputs": [],
   "source": [
    "_performance_sec1_path = '../data/original_data/f2f/performance_sec1.csv'\n",
    "_performance_sec2_path = '../data/original_data/f2f/performance_sec2.csv'\n",
    "\n",
    "_columns_to_rename = {\n",
    "    'No. Alumno': 'num_alumno',\n",
    "    'Talleres': 'workshops',\n",
    "    'Bitácora': 'report',\n",
    "    'Participacion': 'lecture_participation'\n",
    "}\n",
    "\n",
    "_export_path = '../data/final_model/performance.csv'\n",
    "\n",
    "df = preprocc_data(_performance_sec1_path, _performance_sec2_path, _columns_to_rename)\n",
    "\n",
    "export_data(df, _export_path)"
   ]
  },
  {
   "cell_type": "code",
   "execution_count": 127,
   "metadata": {},
   "outputs": [],
   "source": [
    "_values_to_replace = {'FC' + str(i): i for i in range(1,12)}\n",
    "_export_path_performance_FC = '../data/final_model/performance_weekly.csv'\n",
    "\n",
    "export_data(melting(df), _export_path_performance_FC)"
   ]
  },
  {
   "cell_type": "code",
   "execution_count": null,
   "metadata": {},
   "outputs": [],
   "source": []
  }
 ],
 "metadata": {
  "kernelspec": {
   "display_name": "Python 3",
   "language": "python",
   "name": "python3"
  },
  "language_info": {
   "codemirror_mode": {
    "name": "ipython",
    "version": 3
   },
   "file_extension": ".py",
   "mimetype": "text/x-python",
   "name": "python",
   "nbconvert_exporter": "python",
   "pygments_lexer": "ipython3",
   "version": "3.7.1"
  }
 },
 "nbformat": 4,
 "nbformat_minor": 2
}
