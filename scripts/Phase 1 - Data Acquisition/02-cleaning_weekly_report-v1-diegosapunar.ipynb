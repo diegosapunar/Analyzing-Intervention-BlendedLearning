{
 "cells": [
  {
   "cell_type": "markdown",
   "metadata": {},
   "source": [
    "# (8) Cleaning Weekly Report"
   ]
  },
  {
   "cell_type": "markdown",
   "metadata": {},
   "source": [
    "* **author** = Diego Sapunar-Opazo\n",
    "* **copyright** = Copyright 2019, Thesis M.Sc. Diego Sapunar - Pontificia Universidad Católica de Chile\n",
    "* **credits** = Diego Sapunar-Opazo, Ronald Perez, Mar Perez-Sanagustin, Jorge Maldonado-Mahauad\n",
    "* **maintainer** = Diego Sapunar-Opazo\n",
    "* **email** = dasapunar@uc.cl\n",
    "* **status** = Dev"
   ]
  },
  {
   "cell_type": "markdown",
   "metadata": {},
   "source": [
    "This scripts gets the raw weekly report for each group and clean it, creating for section 1:\n",
    "\n",
    "(1) **num_alumno**, which corresponds to the internal face-to-face students' id\n",
    "\n",
    "(2) **last_week**, which corresponds to the last week\n",
    "\n",
    "(3) **dedicated_prepare_lecture_hours**, which corresponds to autoreported time in prepare lectures by the student\n",
    "\n",
    "(4) **dedicated_watch_videos_hours**, which corresponds to autoreported time in watch videos by the student\n",
    "\n",
    "(5) **dedicated_coursera_quiz_hours**, which corresponds to autoreported time in coursera quiz by the student\n",
    "\n",
    "(6) **dedicated_prepare_exam_hours**, which corresponds to autoreported time in prepare an exam by the student\n",
    "\n",
    "(7) **dedicated_other_hours**, which corresponds to autoreported time in other by the student\n",
    "\n",
    "(8) **perception_lecture_score**, which corresponds to the student's perception of lectures last week\n",
    "\n",
    "(9) **perception_comprehension_score**, which corresponds to the student's comprehension of the last week topic\n",
    "\n",
    "(10) **next_week**, which corresponds to the next week\n",
    "\n",
    "(11) **planning_hours**, which corresponds to the student's planning hours for the next week\n",
    "\n",
    "(12) **planning_number_videos**, which corresponds to the student's planning number of videos for the next week\n",
    "\n",
    "(13) **planning_number_quiz**, which corresponds to the student's planning number of quiz for the next week\n",
    "\n",
    "(14) **planning_Mon**, which corresponds that the student planed to work on Monday.\n",
    "\n",
    "(15) **planning_Tue**, which corresponds that the student planed to work on Tuesday.\n",
    "\n",
    "(16) **planning_Wed**, which corresponds that the student planed to work on Wednesday.\n",
    "\n",
    "(17) **planning_Thu**, which corresponds that the student planed to work on Thursday.\n",
    "\n",
    "(18) **planning_Fri**, which corresponds that the student planed to work on Friday.\n",
    "\n",
    "(19) **planning_Sat**, which corresponds that the student planed to work on Saturday.\n",
    "\n",
    "(20) **planning_Sat**, which corresponds that the student planed to work on Sunday.\n",
    "\n",
    "\n",
    "And for section 2:\n",
    "\n",
    "(1) **num_alumno**, which corresponds to the internal face-to-face students' id\n",
    "\n",
    "(2) **last_week**, which corresponds to the last week\n",
    "\n",
    "(3) **dedicated_prepare_lecture_hours**, which corresponds to autoreported time in prepare lectures by the student\n",
    "\n",
    "(4) **dedicated_watch_videos_hours**, which corresponds to autoreported time in watch videos by the student\n",
    "\n",
    "(5) **dedicated_coursera_quiz_hours**, which corresponds to autoreported time in coursera quiz by the student\n",
    "\n",
    "(6) **dedicated_prepare_exam_hours**, which corresponds to autoreported time in prepare an exam by the student\n",
    "\n",
    "(7) **dedicated_other_hours**, which corresponds to autoreported time in other by the student\n",
    "\n",
    "(8) **perception_lecture_score**, which corresponds to the student's perception of lectures last week\n",
    "\n",
    "(9) **perception_comprehension_score**, which corresponds to the student's comprehension of the last week topic\n"
   ]
  },
  {
   "cell_type": "markdown",
   "metadata": {},
   "source": [
    "## Part 0: Import Packages"
   ]
  },
  {
   "cell_type": "code",
   "execution_count": 1,
   "metadata": {},
   "outputs": [],
   "source": [
    "# data analysis and wrangling\n",
    "import pandas as pd\n",
    "import numpy as np"
   ]
  },
  {
   "cell_type": "markdown",
   "metadata": {},
   "source": [
    "## Part 1: Getting the Data"
   ]
  },
  {
   "cell_type": "code",
   "execution_count": 2,
   "metadata": {},
   "outputs": [],
   "source": [
    "def read_data(path):\n",
    "    '''\n",
    "    Read a .csv file and convert it in a Pandas DataFrame.\n",
    "    \n",
    "    Input:\n",
    "    path - String: path where the .csv is located.\n",
    "    \n",
    "    Output:\n",
    "    Pandas DataFrame: .csv in the Pandas DataFrame format.\n",
    "    '''\n",
    "    \n",
    "    return pd.read_csv(path, header=1)"
   ]
  },
  {
   "cell_type": "markdown",
   "metadata": {},
   "source": [
    "## Part 2: Data Preprocessing & Wrangling"
   ]
  },
  {
   "cell_type": "code",
   "execution_count": 3,
   "metadata": {},
   "outputs": [],
   "source": [
    "def preprocc_data(df, slices=False, columns_to_rename=False, datetime=False):\n",
    "    '''\n",
    "    From a dataframe on the fly, (1) get the necessary columns; (2) rename columns; and (3) clean data.\n",
    "    \n",
    "    Input: \n",
    "    df - Pandas DataFrame: dataframe to be cleaned.\n",
    "    columns_to_rename - Dict: Columns to rename, Key: original name, Value: new name.\n",
    "    datetime - List of Strings: List of the names of the columns to be datetime.\n",
    "    \n",
    "    Output:\n",
    "    df - Pandas DataFrame: the dataframe already cleaned.\n",
    "    '''\n",
    "    \n",
    "    df_cleaned = df.copy()\n",
    "    \n",
    "    # slicing the columns, getting only the one that I need (num_alumno and seccion)\n",
    "    if slices:\n",
    "        df_cleaned = df_cleaned.iloc[:,slices]\n",
    "    \n",
    "    del df  # clean memory\n",
    "    \n",
    "    # rename columns\n",
    "    if columns_to_rename:\n",
    "        df_cleaned.rename(_columns_to_rename, \n",
    "                          inplace=True, \n",
    "                          axis=1)\n",
    "    \n",
    "    if datetime:\n",
    "        for cat in datetime:\n",
    "            \n",
    "            df_cleaned[cat] = pd.to_datetime(df_cleaned[cat], \n",
    "                                             format='%Y-%m-%d %H:%M:%S.%f')\n",
    "    \n",
    "    return df_cleaned"
   ]
  },
  {
   "cell_type": "markdown",
   "metadata": {},
   "source": [
    "## Part 3: Export Data"
   ]
  },
  {
   "cell_type": "code",
   "execution_count": 4,
   "metadata": {},
   "outputs": [],
   "source": [
    "def export_data(df, path):\n",
    "    '''\n",
    "    Export df in .csv fole to the path.\n",
    "    \n",
    "    Input:\n",
    "    df - Pandas DataFrame: dataframe to be exported.\n",
    "    path - String: path where the .csv will be exported.\n",
    "    '''\n",
    "    \n",
    "    df.to_csv(path, index=False)"
   ]
  },
  {
   "cell_type": "markdown",
   "metadata": {},
   "source": [
    "## Part 4: Main"
   ]
  },
  {
   "cell_type": "code",
   "execution_count": 5,
   "metadata": {},
   "outputs": [],
   "source": [
    "_columns_to_rename = {\n",
    "    'Open-Ended Response': 'num_alumno',\n",
    "    'Response.1': 'last_week',\n",
    "    'Preparar las clases (leer las lecturas y estudiar los casos)': 'dedicated_prepare_lecture_hours',\n",
    "    'Ver los videos correspondientes al tema de las clases': 'dedicated_watch_videos_hours',\n",
    "    'Realizar evaluaciones online': 'dedicated_coursera_quiz_hours',\n",
    "    'Preparar una interrogación o examen': 'dedicated_prepare_exam_hours',\n",
    "    'Otro (asistencia a una charla, etc.)': 'dedicated_other_hours',\n",
    "    'Response.2': 'perception_lecture_score',\n",
    "    'Response.3': 'perception_comprehension_score',\n",
    "    'Response.5': 'next_week',\n",
    "    'Horas que quieres invertir': 'planning_hours',\n",
    "    'Número de videos\\xa0que quieres ver': 'planning_number_videos',\n",
    "    'Número de evaluaciones que quieres realizar': 'planning_number_quiz',\n",
    "    'Lunes': 'planning_Mon',\n",
    "    'Martes': 'planning_Tue',\n",
    "    'Miércoles': 'planning_Wed',\n",
    "    'Jueves': 'planning_Thu',\n",
    "    'Viernes': 'planning_Fri',\n",
    "    'Sábado': 'planning_Sat',\n",
    "    'Domingo': 'planning_Sun'\n",
    "}\n",
    "\n",
    "_values_to_replace = {\n",
    "    'Semana 15 (26-11-18 al 02-12-18)': 15,\n",
    "    'Semana 14 (19-11-18 al 25-11-18)': 14,\n",
    "    'Semana 13 (12-11-18 al 18-11-18)': 13,\n",
    "    'Semana 12 (05-11-18 al 11-11-18)': 12,\n",
    "    'Semana 11 (29-10-18 al 04-11-18)': 11,\n",
    "    'Semana 10 (22-10-18 al 28-10-18)': 10,\n",
    "    'Semana 9 (15-10-18 al 21-10-18)': 9,\n",
    "    'Semana 8 (08-10-18 al 14-10-18)': 8,\n",
    "    'Semana 7 (01-10-18 al 07-10-18)': 7,\n",
    "    'Semana 6 (24-09-18 al 30-09-18)': 6,\n",
    "    'Semana 5 (17-09-18 al 23-09-18)': 5,\n",
    "    'Semana 4 (10-09-18 al 16-09-18)': 4,\n",
    "    'Semana 3 (03-09-18 al 09-09-18)': 3,\n",
    "    'Semana 2 (27-08-18 al 02-09-18)': 2,\n",
    "    'Semana 1 (20-08-18 al 26-08-18)': 1,\n",
    "    'Semana 0 (13-08-18 al 19-08-18)': 0,\n",
    "    'Totalmente beneficiosas': 4,\n",
    "    'Muy beneficiosas': 3,\n",
    "    'Beneficiosas': 2,\n",
    "    'Algo beneficiosas': 1,\n",
    "    'Nada beneficiosas': 0,\n",
    "    'Tengo una idea clara de lo que es y sé cómo aplicarlo.': 3,\n",
    "    'Tengo una idea clara de lo que es y sé como aplicarlo.': 3,\n",
    "    'Tengo una idea clara de lo que es, pero no sé cómo aplicarlo.': 2,\n",
    "    'Tengo una idea de lo que es, pero no sé cómo aplicarlo.': 1,\n",
    "    'No sé lo qué es o lo he escuchado, pero no sé a que se refiere.': 0,\n",
    "    'No sé lo que es o lo he escuchado, pero no sé a que se refiere.': 0,\n",
    "    'Lunes': 1,\n",
    "    'Martes': 1,\n",
    "    'Miércoles': 1,\n",
    "    'Jueves': 1,\n",
    "    'Viernes': 1,\n",
    "    'Sábado': 1,\n",
    "    'Domingo': 1\n",
    "}"
   ]
  },
  {
   "cell_type": "code",
   "execution_count": 6,
   "metadata": {},
   "outputs": [],
   "source": [
    "_report_sec1_path = '../data/raw_data/weekly_report/weekly_report_sec1.csv'\n",
    "df_report_1 = read_data(_report_sec1_path)\n",
    "\n",
    "df_report_1 = preprocc_data(df_report_1, \n",
    "                            slices=[i for i in range(10,19)] + [i for i in range(22,33)], \n",
    "                            columns_to_rename=_columns_to_rename)\n",
    "\n",
    "df_report_1.fillna(0, inplace=True)\n",
    "\n",
    "df_report_1.replace(_values_to_replace, inplace=True)\n",
    "df_report_1.drop_duplicates(subset=['num_alumno', 'last_week'], keep='last', inplace=True)\n",
    "\n",
    "_report_sec1_export_path = '../data/clean_data/week_report_sec1.csv'\n",
    "export_data(df_report_1, _report_sec1_export_path)"
   ]
  },
  {
   "cell_type": "code",
   "execution_count": 7,
   "metadata": {},
   "outputs": [],
   "source": [
    "_report_sec2_path = '../data/raw_data/weekly_report/weekly_report_sec2.csv'\n",
    "\n",
    "df_report_2 = read_data(_report_sec2_path)\n",
    "\n",
    "df_report_2 = preprocc_data(df_report_2, \n",
    "                            slices=[i for i in range(10,19)], \n",
    "                            columns_to_rename=_columns_to_rename)\n",
    "\n",
    "df_report_2.fillna(0, inplace=True)\n",
    "df_report_2.replace(_values_to_replace, inplace=True)\n",
    "\n",
    "df_report_2.drop_duplicates(subset=['num_alumno', 'last_week'], keep='last', inplace=True)\n",
    "_report_sec2_export_path = '../data/clean_data/week_report_sec2.csv'\n",
    "export_data(df_report_2, _report_sec2_export_path)"
   ]
  },
  {
   "cell_type": "code",
   "execution_count": null,
   "metadata": {},
   "outputs": [],
   "source": []
  }
 ],
 "metadata": {
  "kernelspec": {
   "display_name": "Python 3",
   "language": "python",
   "name": "python3"
  },
  "language_info": {
   "codemirror_mode": {
    "name": "ipython",
    "version": 3
   },
   "file_extension": ".py",
   "mimetype": "text/x-python",
   "name": "python",
   "nbconvert_exporter": "python",
   "pygments_lexer": "ipython3",
   "version": "3.7.1"
  }
 },
 "nbformat": 4,
 "nbformat_minor": 2
}
