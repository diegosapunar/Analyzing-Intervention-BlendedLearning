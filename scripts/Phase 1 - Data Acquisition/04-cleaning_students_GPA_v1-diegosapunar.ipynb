{
 "cells": [
  {
   "cell_type": "markdown",
   "metadata": {},
   "source": [
    "# (15) Cleaning Students GPA"
   ]
  },
  {
   "cell_type": "markdown",
   "metadata": {},
   "source": [
    "* **author** = Diego Sapunar-Opazo\n",
    "* **copyright** = Copyright 2019, Thesis M.Sc. Diego Sapunar - Pontificia Universidad Católica de Chile\n",
    "* **credits** = Diego Sapunar-Opazo, Ronald Perez, Mar Perez-Sanagustin, Jorge Maldonado-Mahauad\n",
    "* **maintainer** = Diego Sapunar-Opazo\n",
    "* **email** = dasapunar@uc.cl\n",
    "* **status** = Dev"
   ]
  },
  {
   "cell_type": "markdown",
   "metadata": {},
   "source": [
    "This script gets the raw background academic performance (GPA) of the students and clean it, creating a csv file students_GPA with:\n",
    "\n",
    "(1) **num_alumno**, which corresponds to the internal face-to-face students' id\n",
    "\n",
    "(2) **GPA**, which corresponds to the student's GPA from 1 to 7"
   ]
  },
  {
   "cell_type": "markdown",
   "metadata": {},
   "source": [
    "## Part 0: Import Packages"
   ]
  },
  {
   "cell_type": "code",
   "execution_count": 1,
   "metadata": {},
   "outputs": [],
   "source": [
    "# data analysis and wrangling\n",
    "import pandas as pd\n",
    "import numpy as np"
   ]
  },
  {
   "cell_type": "markdown",
   "metadata": {},
   "source": [
    "## Part 1: Getting the Data"
   ]
  },
  {
   "cell_type": "code",
   "execution_count": 2,
   "metadata": {},
   "outputs": [],
   "source": [
    "def read_data(path):\n",
    "    '''\n",
    "    Read a .csv file and convert it in a Pandas DataFrame.\n",
    "    \n",
    "    Input:\n",
    "    path - String: path where the .csv is located.\n",
    "    \n",
    "    Output:\n",
    "    Pandas DataFrame: .csv in the Pandas DataFrame format.\n",
    "    '''\n",
    "    \n",
    "    return pd.read_csv(path)"
   ]
  },
  {
   "cell_type": "markdown",
   "metadata": {},
   "source": [
    "## Part 2: Data Preprocessing & Wrangling"
   ]
  },
  {
   "cell_type": "code",
   "execution_count": 3,
   "metadata": {},
   "outputs": [],
   "source": [
    "def preprocc_data(df, slices=False, columns_to_rename=False):\n",
    "    '''\n",
    "    From a dataframe on the fly, (1) get the necessary columns; (2) rename columns; and (3) clean data.\n",
    "    \n",
    "    Input: \n",
    "    df - Pandas DataFrame: dataframe to be cleaned.\n",
    "    columns_to_rename - Dict: Columns to rename, Key: original name, Value: new name.\n",
    "    datetime - List of Strings: List of the names of the columns to be datetime.\n",
    "    \n",
    "    Output:\n",
    "    df - Pandas DataFrame: the dataframe already cleaned.\n",
    "    '''\n",
    "    \n",
    "    df_cleaned = df.copy()\n",
    "    \n",
    "    # slicing the columns, getting only the one that I need (num_alumno and seccion)\n",
    "    if slices:\n",
    "        df_cleaned = df_cleaned.iloc[:,slices]\n",
    "    \n",
    "    del df  # clean memory\n",
    "    \n",
    "    # rename columns\n",
    "    if columns_to_rename:\n",
    "        df_cleaned.rename(_columns_to_rename, \n",
    "                          inplace=True, \n",
    "                          axis=1)\n",
    "    \n",
    "    \n",
    "    return df_cleaned"
   ]
  },
  {
   "cell_type": "markdown",
   "metadata": {},
   "source": [
    "## Part 3: Export Data"
   ]
  },
  {
   "cell_type": "code",
   "execution_count": 4,
   "metadata": {},
   "outputs": [],
   "source": [
    "def export_data(df, path):\n",
    "    '''\n",
    "    Export df in .csv fole to the path.\n",
    "    \n",
    "    Input:\n",
    "    df - Pandas DataFrame: dataframe to be exported.\n",
    "    path - String: path where the .csv will be exported.\n",
    "    '''\n",
    "    \n",
    "    df.to_csv(path, index=False)"
   ]
  },
  {
   "cell_type": "markdown",
   "metadata": {},
   "source": [
    "## Part 4: Main"
   ]
  },
  {
   "cell_type": "code",
   "execution_count": 5,
   "metadata": {},
   "outputs": [],
   "source": [
    "_columns_to_rename = {\n",
    "    'Alumno.NroAlumno': 'num_alumno',\n",
    "    'AlumnoVigentePeriodo.PPA': 'GPA'\n",
    "}\n",
    "\n",
    "df = read_data('../data/raw_data/background/students_GPA.csv')\n",
    "\n",
    "df = preprocc_data(df, slices=[len(df.columns) - 2, len(df.columns) - 1], columns_to_rename=_columns_to_rename)\n",
    "\n",
    "df.dropna(inplace=True)\n",
    "\n",
    "\n",
    "\n",
    "# Exporting\n",
    "export_data(df, '../data/clean_data/students_GPA.csv')"
   ]
  },
  {
   "cell_type": "code",
   "execution_count": 7,
   "metadata": {},
   "outputs": [
    {
     "data": {
      "text/plain": [
       "216"
      ]
     },
     "execution_count": 7,
     "metadata": {},
     "output_type": "execute_result"
    }
   ],
   "source": [
    "len(df)"
   ]
  },
  {
   "cell_type": "code",
   "execution_count": 8,
   "metadata": {},
   "outputs": [],
   "source": [
    "df_sec = pd.read_csv('../data/clean_data/students_sec.csv')"
   ]
  },
  {
   "cell_type": "code",
   "execution_count": 9,
   "metadata": {},
   "outputs": [],
   "source": [
    "aux = pd.merge(left=df_sec, right=df, left_on='num_alumno', right_on='num_alumno')"
   ]
  },
  {
   "cell_type": "code",
   "execution_count": 11,
   "metadata": {},
   "outputs": [
    {
     "data": {
      "text/plain": [
       "211"
      ]
     },
     "execution_count": 11,
     "metadata": {},
     "output_type": "execute_result"
    }
   ],
   "source": [
    "len(aux)"
   ]
  },
  {
   "cell_type": "code",
   "execution_count": 12,
   "metadata": {},
   "outputs": [
    {
     "data": {
      "text/plain": [
       "242"
      ]
     },
     "execution_count": 12,
     "metadata": {},
     "output_type": "execute_result"
    }
   ],
   "source": [
    "len(df_sec)"
   ]
  },
  {
   "cell_type": "code",
   "execution_count": 15,
   "metadata": {},
   "outputs": [
    {
     "data": {
      "text/plain": [
       "117"
      ]
     },
     "execution_count": 15,
     "metadata": {},
     "output_type": "execute_result"
    }
   ],
   "source": [
    "len(aux[aux['sec'] == 2])"
   ]
  },
  {
   "cell_type": "code",
   "execution_count": null,
   "metadata": {},
   "outputs": [],
   "source": []
  }
 ],
 "metadata": {
  "kernelspec": {
   "display_name": "Python 3",
   "language": "python",
   "name": "python3"
  },
  "language_info": {
   "codemirror_mode": {
    "name": "ipython",
    "version": 3
   },
   "file_extension": ".py",
   "mimetype": "text/x-python",
   "name": "python",
   "nbconvert_exporter": "python",
   "pygments_lexer": "ipython3",
   "version": "3.7.1"
  }
 },
 "nbformat": 4,
 "nbformat_minor": 2
}
