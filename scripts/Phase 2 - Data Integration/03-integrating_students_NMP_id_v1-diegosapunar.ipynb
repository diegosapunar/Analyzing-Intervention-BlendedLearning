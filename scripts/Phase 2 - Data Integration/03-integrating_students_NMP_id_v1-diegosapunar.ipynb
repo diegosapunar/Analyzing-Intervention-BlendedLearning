{
 "cells": [
  {
   "cell_type": "markdown",
   "metadata": {},
   "source": [
    "# (3) Cleaning Student NMP ID"
   ]
  },
  {
   "cell_type": "markdown",
   "metadata": {},
   "source": [
    "* **author** = Diego Sapunar-Opazo\n",
    "* **copyright** = Copyright 2019, Thesis M.Sc. Diego Sapunar - Pontificia Universidad Católica de Chile\n",
    "* **credits** = Diego Sapunar-Opazo, Ronald Perez, Mar Perez-Sanagustin, Jorge Maldonado-Mahauad\n",
    "* **maintainer** = Diego Sapunar-Opazo\n",
    "* **email** = dasapunar@uc.cl\n",
    "* **status** = Dev"
   ]
  },
  {
   "cell_type": "markdown",
   "metadata": {},
   "source": [
    "This script gets from the NMP's database users_id_lms, users and students.csv to create a .csv filw with two columns:\n",
    "\n",
    "(1) **num_alumno**, which corresponds to the internal face-to-face students' id and\n",
    "\n",
    "(2) **NMP_user_id**, which corresponds to NMP's internal id"
   ]
  },
  {
   "cell_type": "markdown",
   "metadata": {},
   "source": [
    "## Part 0: Import Packages"
   ]
  },
  {
   "cell_type": "code",
   "execution_count": 4,
   "metadata": {},
   "outputs": [],
   "source": [
    "# data analysis and wrangling\n",
    "import pandas as pd\n",
    "import numpy as np"
   ]
  },
  {
   "cell_type": "markdown",
   "metadata": {},
   "source": [
    "## Part 1: Getting the Data"
   ]
  },
  {
   "cell_type": "code",
   "execution_count": 5,
   "metadata": {},
   "outputs": [],
   "source": [
    "def read_data(path):\n",
    "    '''\n",
    "    Read a .csv file and convert it in a Pandas DataFrame.\n",
    "    \n",
    "    Input:\n",
    "    path - String: path where the .csv is located.\n",
    "    \n",
    "    Output:\n",
    "    Pandas DataFrame: .csv in the Pandas DataFrame format.\n",
    "    '''\n",
    "    return pd.read_csv(path)"
   ]
  },
  {
   "cell_type": "markdown",
   "metadata": {},
   "source": [
    "## Part 2: Data Preprocessing"
   ]
  },
  {
   "cell_type": "code",
   "execution_count": 6,
   "metadata": {},
   "outputs": [],
   "source": [
    "def preprocc_data(df, slices=False, columns_to_rename=False, categories=False):\n",
    "    '''\n",
    "    From a dataframe on the fly, (1) get the necessary columns; (2) rename columns; and (3) clean data.\n",
    "    \n",
    "    Input: \n",
    "    df - Pandas DataFrame: dataframe to be cleaned.\n",
    "    columns_to_rename - Dict: Columns to rename, Key: original name, Value: new name.\n",
    "    categories - List of Strings: List of the names of the columns to be category type. If you renamed some columns, should be the new names.\n",
    "    \n",
    "    Output:\n",
    "    df - Pandas DataFrame: the dataframe already cleaned.\n",
    "    '''\n",
    "    \n",
    "    df_cleaned = df.copy()\n",
    "    \n",
    "    # slicing the columns, getting only the one that I need (num_alumno and seccion)\n",
    "    if slices:\n",
    "        df_cleaned = df_cleaned.iloc[:,slices]\n",
    "    \n",
    "    del df  # clean memory\n",
    "    \n",
    "    # rename columns\n",
    "    if columns_to_rename:\n",
    "        df_cleaned.rename(_columns_to_rename, \n",
    "                          inplace=True, \n",
    "                          axis=1)\n",
    "    \n",
    "    if categories:\n",
    "        for cat in categories:\n",
    "            # creating categories\n",
    "            df_cleaned[cat] = df_cleaned[cat].astype('category')\n",
    "    \n",
    "    return df_cleaned"
   ]
  },
  {
   "cell_type": "code",
   "execution_count": 7,
   "metadata": {},
   "outputs": [],
   "source": [
    "def merging(df1, df2, variable):\n",
    "    '''\n",
    "    Merge df1 and df2 over the variable.\n",
    "    \n",
    "    Input:\n",
    "    df1 - Pandas DataFrame\n",
    "    df2 - Pandas DataFrame\n",
    "    variable - String: name of the column to use as pivot.\n",
    "    \n",
    "    Output:\n",
    "    Pandas DataFrame\n",
    "    '''\n",
    "\n",
    "    df1.dropna(inplace=True)\n",
    "    df2.dropna(inplace=True)\n",
    "    \n",
    "    # getting same types\n",
    "    df1[variable] = df1[variable].astype('str')\n",
    "    df2[variable] = df2[variable].astype('str')\n",
    "    \n",
    "    return pd.merge(left=df1, right=df2, left_on=variable, right_on=variable)\n",
    "    "
   ]
  },
  {
   "cell_type": "code",
   "execution_count": 105,
   "metadata": {},
   "outputs": [],
   "source": [
    "def get_students(df, df_students):\n",
    "    '''\n",
    "    Maintain only de nmp in df that are in the df_students.\n",
    "    \n",
    "    Input:\n",
    "    df_lms - Pandas DataFrame: df with the lms ids\n",
    "    df_students - Pandas DataFrame: df with the students that are important for me!\n",
    "    \n",
    "    Output:\n",
    "    Pandas DataFrame: With the same structure of df_lms, filtered with the students thar are important.\n",
    "    '''\n",
    "    # getting same types\n",
    "    df['num_alumno'] = df['num_alumno'].astype('str')\n",
    "    df_students['num_alumno'] = df_students['num_alumno'].astype('str')\n",
    "    \n",
    "    return df_students.merge(df, left_on=['num_alumno', 'lms_id'], right_on=['num_alumno', 'lms_id'])"
   ]
  },
  {
   "cell_type": "markdown",
   "metadata": {},
   "source": [
    "## Part 3: Export Data"
   ]
  },
  {
   "cell_type": "code",
   "execution_count": 9,
   "metadata": {},
   "outputs": [],
   "source": [
    "def export_data(df, path, columns_to_drop=False):\n",
    "    '''\n",
    "    Export df in .csv file to the path.\n",
    "    \n",
    "    Input:\n",
    "    df - Pandas DataFrame: dataframe to be exported.\n",
    "    path - String: path where the .csv will be exported.\n",
    "    '''\n",
    "    if columns_to_drop:\n",
    "        df.drop(columns_to_drop, axis=1, inplace=True)\n",
    "        \n",
    "    df.to_csv(path, index=False)"
   ]
  },
  {
   "cell_type": "markdown",
   "metadata": {},
   "source": [
    "## Part 4: Main"
   ]
  },
  {
   "cell_type": "code",
   "execution_count": 109,
   "metadata": {},
   "outputs": [],
   "source": [
    "_users_path = '../data/raw_data/NMP/users.csv'\n",
    "_users_id_lms_path = '../data/raw_data/NMP/users_id_lms.csv'\n",
    "_students_path = '../data/clean_data/students_lms_id.csv'\n",
    "_export_path = '../data/clean_data/students_NMP_id.csv'\n",
    "\n",
    "\n",
    "_columns_to_rename = {\n",
    "    'user_id': 'NMP_user_id',\n",
    "    'lms_user_id': 'lms_id',\n",
    "    'user_id_lms': 'lms_id',\n",
    "    'user_id_review': 'num_alumno'\n",
    "}\n",
    "\n",
    "\n",
    "df_users = preprocc_data(read_data(_users_path), \n",
    "                         slices=[0,1], \n",
    "                         columns_to_rename=_columns_to_rename, \n",
    "                         categories=False)\n",
    "\n",
    "df_lms_id = preprocc_data(read_data(_users_id_lms_path), \n",
    "                          slices=[0,1], \n",
    "                          columns_to_rename=_columns_to_rename, \n",
    "                          categories=False)\n",
    "\n",
    "df = merging(df_users, df_lms_id, 'lms_id')\n",
    "\n",
    "df_aux = get_students(df, read_data(_students_path))\n",
    "\n",
    "export_data(df_aux, \n",
    "            _export_path,\n",
    "           ['lms_id'])"
   ]
  },
  {
   "cell_type": "code",
   "execution_count": 111,
   "metadata": {},
   "outputs": [
    {
     "data": {
      "text/plain": [
       "124"
      ]
     },
     "execution_count": 111,
     "metadata": {},
     "output_type": "execute_result"
    }
   ],
   "source": [
    "len(df_aux)"
   ]
  },
  {
   "cell_type": "code",
   "execution_count": null,
   "metadata": {},
   "outputs": [],
   "source": []
  }
 ],
 "metadata": {
  "kernelspec": {
   "display_name": "Python 3",
   "language": "python",
   "name": "python3"
  },
  "language_info": {
   "codemirror_mode": {
    "name": "ipython",
    "version": 3
   },
   "file_extension": ".py",
   "mimetype": "text/x-python",
   "name": "python",
   "nbconvert_exporter": "python",
   "pygments_lexer": "ipython3",
   "version": "3.7.1"
  }
 },
 "nbformat": 4,
 "nbformat_minor": 2
}
