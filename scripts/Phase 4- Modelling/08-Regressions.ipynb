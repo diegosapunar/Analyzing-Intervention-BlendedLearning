{
 "cells": [
  {
   "cell_type": "markdown",
   "metadata": {},
   "source": [
    "# 08: Regressions"
   ]
  },
  {
   "cell_type": "markdown",
   "metadata": {},
   "source": [
    "* **author** = Diego Sapunar-Opazo\n",
    "* **copyright** = Copyright 2019, Thesis M.Sc. Diego Sapunar - Pontificia Universidad Católica de Chile\n",
    "* **credits** = Diego Sapunar-Opazo, Ronald Perez, Mar Perez-Sanagustin, Jorge Maldonado-Mahauad\n",
    "* **maintainer** = Diego Sapunar-Opazo\n",
    "* **email** = dasapunar@uc.cl\n",
    "* **status** = Dev"
   ]
  },
  {
   "cell_type": "markdown",
   "metadata": {},
   "source": [
    "## Part 0: Packages"
   ]
  },
  {
   "cell_type": "code",
   "execution_count": 1,
   "metadata": {},
   "outputs": [
    {
     "name": "stderr",
     "output_type": "stream",
     "text": [
      "/usr/local/lib/python3.7/site-packages/sklearn/cross_validation.py:41: DeprecationWarning: This module was deprecated in version 0.18 in favor of the model_selection module into which all the refactored classes and functions are moved. Also note that the interface of the new CV iterators are different from that of this module. This module will be removed in 0.20.\n",
      "  \"This module will be removed in 0.20.\", DeprecationWarning)\n"
     ]
    }
   ],
   "source": [
    "# data analysis and wrangling\n",
    "import pandas as pd\n",
    "import numpy as np\n",
    "\n",
    "# machine learning\n",
    "from sklearn.linear_model import LinearRegression\n",
    "from sklearn.cross_validation import train_test_split\n",
    "from sklearn import metrics\n",
    "\n",
    "import statsmodels.formula.api as smf\n",
    "\n",
    "# visualization\n",
    "import matplotlib.pyplot as plt\n",
    "%matplotlib inline\n",
    "import seaborn as sns"
   ]
  },
  {
   "cell_type": "markdown",
   "metadata": {},
   "source": [
    "## Part 2: Variable Importance"
   ]
  },
  {
   "cell_type": "code",
   "execution_count": 2,
   "metadata": {},
   "outputs": [],
   "source": [
    "df_sec = pd.read_csv('../../data/clean_data/students_sec.csv')\n",
    "df_clusters = pd.read_csv('../../data/final_data/students_clusters.csv')\n",
    "df_interactions = pd.read_csv('../../data/final_data/coursera_students_interactions_nueva.csv', low_memory=False)\n",
    "df_performance = pd.read_csv('../../data/final_data/performance.csv').iloc[:, [0,-1]]\n",
    "df_clusters = pd.read_csv('../../data/final_data/students_clusters.csv')\n",
    "df_performance_weekly = pd.read_csv('../../data/final_data/performance_weekly.csv')"
   ]
  },
  {
   "cell_type": "code",
   "execution_count": 3,
   "metadata": {},
   "outputs": [
    {
     "data": {
      "text/plain": [
       "array(['Assessment try', 'Video-Lecture begin', 'Video-Lecture completed',\n",
       "       'Video-Lecture review', 'Reading completed', 'Assessment pass',\n",
       "       'Assessment review', 'Reading review'], dtype=object)"
      ]
     },
     "execution_count": 3,
     "metadata": {},
     "output_type": "execute_result"
    }
   ],
   "source": [
    "df_interactions.interaction.unique()"
   ]
  },
  {
   "cell_type": "code",
   "execution_count": 4,
   "metadata": {},
   "outputs": [],
   "source": [
    "aux_number_interactions = df_interactions[['num_alumno', 'week', 'interaction']].groupby(['num_alumno', 'interaction']).count()\n",
    "aux_timespent = df_interactions[['num_alumno', 'timespent', 'interaction']].groupby(['num_alumno', 'interaction']).sum()"
   ]
  },
  {
   "cell_type": "code",
   "execution_count": 5,
   "metadata": {},
   "outputs": [],
   "source": [
    "aux_number_interactions = aux_number_interactions.unstack(level=1).fillna(0).week\n",
    "aux_number_interactions.drop(['Reading completed', 'Reading review'], axis=1, inplace=True)\n",
    "aux_number_interactions.reset_index(inplace=True)\n",
    "\n",
    "_columns_to_rename = {\n",
    "    'Assessment pass': 'number_interac_asses_pass',\n",
    "    'Assessment review': 'number_interac_asses_review',\n",
    "    'Assessment try': 'number_interac_asses_try',\n",
    "    'Video-Lecture begin': 'number_interac_video_begin',\n",
    "    'Video-Lecture completed': 'number_interac_video_completed',\n",
    "    'Video-Lecture review': 'number_interac_video_review',\n",
    "}\n",
    "aux_number_interactions.rename(_columns_to_rename, axis=1, inplace=True)\n",
    "\n",
    "aux_timespent = aux_timespent.unstack(level=1).fillna(0).timespent\n",
    "aux_timespent.drop(['Reading completed', 'Reading review'], axis=1, inplace=True)\n",
    "aux_timespent.reset_index(inplace=True)\n",
    "\n",
    "_columns_to_rename = {\n",
    "    'Assessment pass': 'ts_asses_pass',\n",
    "    'Assessment review': 'ts_asses_review',\n",
    "    'Assessment try': 'ts_asses_try',\n",
    "    'Video-Lecture begin': 'ts_video_begin',\n",
    "    'Video-Lecture completed': 'ts_video_completed',\n",
    "    'Video-Lecture review': 'ts_video_review',\n",
    "}\n",
    "aux_timespent.rename(_columns_to_rename, axis=1, inplace=True)\n",
    "\n"
   ]
  },
  {
   "cell_type": "code",
   "execution_count": 6,
   "metadata": {},
   "outputs": [],
   "source": [
    "df = pd.merge(left=df_performance, right=aux_number_interactions, left_on='num_alumno', right_on='num_alumno')\n",
    "df = pd.merge(left=df, right=aux_timespent, left_on='num_alumno', right_on='num_alumno')\n",
    "df = pd.merge(left=df, right=df_clusters, left_on='num_alumno', right_on='num_alumno')\n"
   ]
  },
  {
   "cell_type": "code",
   "execution_count": 7,
   "metadata": {},
   "outputs": [],
   "source": [
    "dummy = pd.get_dummies(df['cluster'])\n",
    "df = pd.concat([df, dummy], axis=1)\n",
    "df.rename({0: 'effort', 1: 'prior_knowledge', 2: 'no_effort'}, axis=1, inplace=True)"
   ]
  },
  {
   "cell_type": "code",
   "execution_count": 10,
   "metadata": {},
   "outputs": [
    {
     "name": "stdout",
     "output_type": "stream",
     "text": [
      "5.201713961536325\n"
     ]
    },
    {
     "data": {
      "text/plain": [
       "[('number_interac_asses_pass', -0.0021850937655115603),\n",
       " ('number_interac_asses_review', 4.462693789442359e-06),\n",
       " ('number_interac_asses_try', -3.80350365292752e-05),\n",
       " ('number_interac_video_begin', 0.00013647562878329144),\n",
       " ('number_interac_video_completed', -0.0010960680786605516),\n",
       " ('number_interac_video_review', 0.0022952785647808987),\n",
       " ('ts_asses_pass', 0.000829445729631698),\n",
       " ('ts_asses_review', 8.470164910441102e-06),\n",
       " ('ts_asses_try', 5.62514713559186e-06),\n",
       " ('ts_video_begin', 8.00824909872126e-06),\n",
       " ('ts_video_completed', 1.4492732160866947e-05),\n",
       " ('ts_video_review', -4.73652185108192e-05)]"
      ]
     },
     "execution_count": 10,
     "metadata": {},
     "output_type": "execute_result"
    }
   ],
   "source": [
    "# Create linear regression object.\n",
    "mlr= LinearRegression()\n",
    "\n",
    "feature_cols = [\n",
    "    'number_interac_asses_pass', \n",
    "                'number_interac_asses_review', \n",
    "                'number_interac_asses_try', \n",
    "                'number_interac_video_begin', \n",
    "                'number_interac_video_completed', \n",
    "                'number_interac_video_review',\n",
    "                'ts_asses_pass', \n",
    "                'ts_asses_review', \n",
    "                'ts_asses_try', \n",
    "                'ts_video_begin', \n",
    "                'ts_video_completed', \n",
    "                'ts_video_review'\n",
    "#                  'effort', \n",
    "#                 'prior_knowledge', \n",
    "#                 'no_effort'\n",
    "]\n",
    "X = df[feature_cols]\n",
    "\n",
    "Y = df['NF']\n",
    "\n",
    "# Fit linear regression.\n",
    "mlr.fit(X, Y)\n",
    "\n",
    "# Get the slope and intercept of the line best fit.\n",
    "print(mlr.intercept_)\n",
    "\n",
    "# print(mlr.coef_)\n",
    "\n",
    "# pair the feature names with the coefficients\n",
    "list(zip(feature_cols, mlr.coef_))\n"
   ]
  },
  {
   "cell_type": "code",
   "execution_count": 11,
   "metadata": {},
   "outputs": [
    {
     "data": {
      "text/plain": [
       "<matplotlib.axes._subplots.AxesSubplot at 0x10cec8278>"
      ]
     },
     "execution_count": 11,
     "metadata": {},
     "output_type": "execute_result"
    },
    {
     "data": {
      "image/png": "[encoded data removed]",
      "text/plain": [
       "<Figure size 432x288 with 1 Axes>"
      ]
     },
     "metadata": {},
     "output_type": "display_data"
    }
   ],
   "source": [
    "res =  [abs(ele) for ele in list(mlr.coef_)] \n",
    "aux = pd.DataFrame({'Features': feature_cols, 'Importance': res}).set_index('Features')\n",
    "aux.sort_values('Importance', ascending=False, inplace=True)\n",
    "aux.plot(kind='bar')"
   ]
  },
  {
   "cell_type": "code",
   "execution_count": 12,
   "metadata": {},
   "outputs": [
    {
     "data": {
      "text/plain": [
       "0.15508076385729097"
      ]
     },
     "execution_count": 12,
     "metadata": {},
     "output_type": "execute_result"
    }
   ],
   "source": [
    "### SCIKIT-LEARN ###\n",
    "\n",
    "# print the R-squared value for the model\n",
    "mlr.score(X, Y)"
   ]
  },
  {
   "cell_type": "code",
   "execution_count": 13,
   "metadata": {},
   "outputs": [
    {
     "name": "stdout",
     "output_type": "stream",
     "text": [
      "0.5259093595850967\n"
     ]
    }
   ],
   "source": [
    "# Split data\n",
    "X_train, X_test, y_train, y_test = train_test_split(X, Y, random_state=1)\n",
    "\n",
    "# Instantiate model\n",
    "lm2 = LinearRegression()\n",
    "\n",
    "# Fit Model\n",
    "lm2.fit(X_train, y_train)\n",
    "\n",
    "# Predict\n",
    "y_pred = lm2.predict(X_test)\n",
    "\n",
    "# RMSE\n",
    "print(np.sqrt(metrics.mean_squared_error(y_test, y_pred)))"
   ]
  },
  {
   "cell_type": "markdown",
   "metadata": {},
   "source": [
    "## Part 3: Prediction Alert"
   ]
  },
  {
   "cell_type": "code",
   "execution_count": null,
   "metadata": {},
   "outputs": [],
   "source": []
  },
  {
   "cell_type": "code",
   "execution_count": null,
   "metadata": {},
   "outputs": [],
   "source": []
  }
 ],
 "metadata": {
  "kernelspec": {
   "display_name": "Python 3",
   "language": "python",
   "name": "python3"
  },
  "language_info": {
   "codemirror_mode": {
    "name": "ipython",
    "version": 3
   },
   "file_extension": ".py",
   "mimetype": "text/x-python",
   "name": "python",
   "nbconvert_exporter": "python",
   "pygments_lexer": "ipython3",
   "version": "3.7.1"
  }
 },
 "nbformat": 4,
 "nbformat_minor": 2
}
