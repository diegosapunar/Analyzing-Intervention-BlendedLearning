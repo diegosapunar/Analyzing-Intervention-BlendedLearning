{
 "cells": [
  {
   "cell_type": "markdown",
   "metadata": {},
   "source": [
    "# 3. H1: The experimental group will get better grades. Hypothesis testing with Python"
   ]
  },
  {
   "cell_type": "markdown",
   "metadata": {},
   "source": [
    "* **author** = Diego Sapunar-Opazo\n",
    "* **copyright** = Copyright 2019, Thesis M.Sc. Diego Sapunar - Pontificia Universidad Católica de Chile\n",
    "* **credits** = Diego Sapunar-Opazo, Ronald Perez, Mar Perez-Sanagustin, Jorge Maldonado-Mahauad\n",
    "* **maintainer** = Diego Sapunar-Opazo\n",
    "* **email** = dasapunar@uc.cl\n",
    "* **status** = Dev"
   ]
  },
  {
   "cell_type": "markdown",
   "metadata": {},
   "source": [
    "## Part 0: Import Packages"
   ]
  },
  {
   "cell_type": "code",
   "execution_count": 2,
   "metadata": {},
   "outputs": [],
   "source": [
    "# data analysis and wrangling\n",
    "import pandas as pd\n",
    "import numpy as np\n",
    "\n",
    "# stats\n",
    "from scipy.stats import ttest_ind"
   ]
  },
  {
   "cell_type": "markdown",
   "metadata": {},
   "source": [
    "## Part 1: Getting the Data"
   ]
  },
  {
   "cell_type": "code",
   "execution_count": 5,
   "metadata": {},
   "outputs": [],
   "source": [
    "df_sec = pd.read_csv('../../data/clean_data/students_sec.csv')\n",
    "df_clusters = pd.read_csv('../../data/final_data/students_clusters.csv')\n",
    "df_performance = pd.read_csv('../../data/final_data/performance.csv')\n",
    "df_GPA = pd.read_csv('../../data/clean_data/students_GPA.csv')"
   ]
  },
  {
   "cell_type": "markdown",
   "metadata": {},
   "source": [
    "## Part 2: Hypothesis testing"
   ]
  },
  {
   "cell_type": "code",
   "execution_count": 11,
   "metadata": {},
   "outputs": [],
   "source": [
    "def t_test(data1, data2, variables=[]):\n",
    "    data = {'item': [], 'mean1': [], 'std1': [], 'mean2': [], 'std2': [], 't': [], 'p': []}\n",
    "    for var in variables:\n",
    "        data['item'].append(var)\n",
    "        print('VARIABLE: ', var)\n",
    "        \n",
    "        data1_mean = data1[var].mean()\n",
    "        data2_mean = data2[var].mean()\n",
    "        data['mean1'].append(data1_mean)\n",
    "        data['mean2'].append(data2_mean)\n",
    "        print(\"data1 mean value:\", data1_mean)\n",
    "        print(\"data2 mean value:\", data2_mean)\n",
    "        \n",
    "        data1_std = data1[var].std()\n",
    "        data2_std = data2[var].std()\n",
    "        data['std1'].append(data1_std)\n",
    "        data['std2'].append(data2_std)\n",
    "        print(\"data1 std value:\",data1_std)\n",
    "        print(\"data2 std value:\",data2_std)\n",
    "        \n",
    "        ttest,pval = ttest_ind(data1[var],data2[var])\n",
    "        data['t'].append(ttest)\n",
    "        data['p'].append(pval)\n",
    "        print(\"t-value\",ttest)\n",
    "        print(\"p-value\",pval)\n",
    "        print()\n",
    "        \n",
    "    return pd.DataFrame(data)\n",
    "        "
   ]
  },
  {
   "cell_type": "code",
   "execution_count": 12,
   "metadata": {},
   "outputs": [],
   "source": [
    "variables = ['I1', 'I2', 'I3', 'FC1', 'FC2', 'FC3', 'FC4', \n",
    "             'FC5', 'FC6', 'FC7', 'FC8', 'FC9', 'FC10', 'FC11', \n",
    "             'report', 'workshops', 'lecture_participation', 'NF', 'GPA']\n",
    "\n",
    "variables = ['GPA']"
   ]
  },
  {
   "cell_type": "markdown",
   "metadata": {},
   "source": [
    "### (2.1) Sections"
   ]
  },
  {
   "cell_type": "code",
   "execution_count": 6,
   "metadata": {},
   "outputs": [],
   "source": [
    "df = pd.merge(left=df_sec, right=df_performance, left_on='num_alumno', right_on='num_alumno')\n",
    "df = pd.merge(left=df, right=df_GPA, left_on='num_alumno', right_on='num_alumno')"
   ]
  },
  {
   "cell_type": "code",
   "execution_count": 7,
   "metadata": {},
   "outputs": [
    {
     "data": {
      "text/html": [
       "<div>\n",
       "<style scoped>\n",
       "    .dataframe tbody tr th:only-of-type {\n",
       "        vertical-align: middle;\n",
       "    }\n",
       "\n",
       "    .dataframe tbody tr th {\n",
       "        vertical-align: top;\n",
       "    }\n",
       "\n",
       "    .dataframe thead th {\n",
       "        text-align: right;\n",
       "    }\n",
       "</style>\n",
       "<table border=\"1\" class=\"dataframe\">\n",
       "  <thead>\n",
       "    <tr style=\"text-align: right;\">\n",
       "      <th></th>\n",
       "      <th>num_alumno</th>\n",
       "      <th>sec</th>\n",
       "      <th>I1</th>\n",
       "      <th>I2</th>\n",
       "      <th>I3</th>\n",
       "      <th>FC1</th>\n",
       "      <th>FC2</th>\n",
       "      <th>FC3</th>\n",
       "      <th>FC4</th>\n",
       "      <th>FC5</th>\n",
       "      <th>...</th>\n",
       "      <th>FC7</th>\n",
       "      <th>FC8</th>\n",
       "      <th>FC9</th>\n",
       "      <th>FC10</th>\n",
       "      <th>FC11</th>\n",
       "      <th>report</th>\n",
       "      <th>workshops</th>\n",
       "      <th>lecture_participation</th>\n",
       "      <th>NF</th>\n",
       "      <th>GPA</th>\n",
       "    </tr>\n",
       "  </thead>\n",
       "  <tbody>\n",
       "    <tr>\n",
       "      <th>0</th>\n",
       "      <td>14633000</td>\n",
       "      <td>1</td>\n",
       "      <td>4.6</td>\n",
       "      <td>4.9</td>\n",
       "      <td>5.2</td>\n",
       "      <td>6.2</td>\n",
       "      <td>6.5</td>\n",
       "      <td>7.0</td>\n",
       "      <td>6.4</td>\n",
       "      <td>6.2</td>\n",
       "      <td>...</td>\n",
       "      <td>5.8</td>\n",
       "      <td>5.2</td>\n",
       "      <td>3.3</td>\n",
       "      <td>3.3</td>\n",
       "      <td>4.8</td>\n",
       "      <td>6.2</td>\n",
       "      <td>3.3</td>\n",
       "      <td>5.9</td>\n",
       "      <td>5.3</td>\n",
       "      <td>4.85</td>\n",
       "    </tr>\n",
       "    <tr>\n",
       "      <th>1</th>\n",
       "      <td>15639703</td>\n",
       "      <td>1</td>\n",
       "      <td>3.7</td>\n",
       "      <td>5.3</td>\n",
       "      <td>5.8</td>\n",
       "      <td>5.4</td>\n",
       "      <td>5.7</td>\n",
       "      <td>6.2</td>\n",
       "      <td>5.6</td>\n",
       "      <td>6.4</td>\n",
       "      <td>...</td>\n",
       "      <td>5.8</td>\n",
       "      <td>4.2</td>\n",
       "      <td>5.0</td>\n",
       "      <td>5.5</td>\n",
       "      <td>5.8</td>\n",
       "      <td>7.0</td>\n",
       "      <td>4.3</td>\n",
       "      <td>1.0</td>\n",
       "      <td>5.5</td>\n",
       "      <td>5.01</td>\n",
       "    </tr>\n",
       "    <tr>\n",
       "      <th>2</th>\n",
       "      <td>13636456</td>\n",
       "      <td>1</td>\n",
       "      <td>5.1</td>\n",
       "      <td>4.9</td>\n",
       "      <td>4.1</td>\n",
       "      <td>6.4</td>\n",
       "      <td>6.1</td>\n",
       "      <td>5.6</td>\n",
       "      <td>5.1</td>\n",
       "      <td>5.8</td>\n",
       "      <td>...</td>\n",
       "      <td>5.8</td>\n",
       "      <td>4.7</td>\n",
       "      <td>5.4</td>\n",
       "      <td>4.9</td>\n",
       "      <td>5.2</td>\n",
       "      <td>4.7</td>\n",
       "      <td>6.3</td>\n",
       "      <td>1.0</td>\n",
       "      <td>5.0</td>\n",
       "      <td>4.65</td>\n",
       "    </tr>\n",
       "    <tr>\n",
       "      <th>3</th>\n",
       "      <td>14637421</td>\n",
       "      <td>1</td>\n",
       "      <td>4.8</td>\n",
       "      <td>5.2</td>\n",
       "      <td>5.6</td>\n",
       "      <td>5.9</td>\n",
       "      <td>7.0</td>\n",
       "      <td>6.5</td>\n",
       "      <td>6.8</td>\n",
       "      <td>5.0</td>\n",
       "      <td>...</td>\n",
       "      <td>5.1</td>\n",
       "      <td>5.0</td>\n",
       "      <td>5.0</td>\n",
       "      <td>4.5</td>\n",
       "      <td>4.8</td>\n",
       "      <td>6.6</td>\n",
       "      <td>5.3</td>\n",
       "      <td>5.9</td>\n",
       "      <td>5.9</td>\n",
       "      <td>5.02</td>\n",
       "    </tr>\n",
       "    <tr>\n",
       "      <th>4</th>\n",
       "      <td>16622359</td>\n",
       "      <td>1</td>\n",
       "      <td>4.5</td>\n",
       "      <td>5.3</td>\n",
       "      <td>5.4</td>\n",
       "      <td>5.0</td>\n",
       "      <td>5.0</td>\n",
       "      <td>5.8</td>\n",
       "      <td>6.0</td>\n",
       "      <td>5.7</td>\n",
       "      <td>...</td>\n",
       "      <td>5.2</td>\n",
       "      <td>6.3</td>\n",
       "      <td>2.3</td>\n",
       "      <td>4.3</td>\n",
       "      <td>4.6</td>\n",
       "      <td>6.6</td>\n",
       "      <td>4.8</td>\n",
       "      <td>1.0</td>\n",
       "      <td>5.1</td>\n",
       "      <td>5.20</td>\n",
       "    </tr>\n",
       "  </tbody>\n",
       "</table>\n",
       "<p>5 rows × 21 columns</p>\n",
       "</div>"
      ],
      "text/plain": [
       "  num_alumno  sec   I1   I2   I3  FC1  FC2  FC3  FC4  FC5  ...   FC7  FC8  \\\n",
       "0   14633000    1  4.6  4.9  5.2  6.2  6.5  7.0  6.4  6.2  ...   5.8  5.2   \n",
       "1   15639703    1  3.7  5.3  5.8  5.4  5.7  6.2  5.6  6.4  ...   5.8  4.2   \n",
       "2   13636456    1  5.1  4.9  4.1  6.4  6.1  5.6  5.1  5.8  ...   5.8  4.7   \n",
       "3   14637421    1  4.8  5.2  5.6  5.9  7.0  6.5  6.8  5.0  ...   5.1  5.0   \n",
       "4   16622359    1  4.5  5.3  5.4  5.0  5.0  5.8  6.0  5.7  ...   5.2  6.3   \n",
       "\n",
       "   FC9  FC10  FC11  report  workshops  lecture_participation   NF   GPA  \n",
       "0  3.3   3.3   4.8     6.2        3.3                    5.9  5.3  4.85  \n",
       "1  5.0   5.5   5.8     7.0        4.3                    1.0  5.5  5.01  \n",
       "2  5.4   4.9   5.2     4.7        6.3                    1.0  5.0  4.65  \n",
       "3  5.0   4.5   4.8     6.6        5.3                    5.9  5.9  5.02  \n",
       "4  2.3   4.3   4.6     6.6        4.8                    1.0  5.1  5.20  \n",
       "\n",
       "[5 rows x 21 columns]"
      ]
     },
     "execution_count": 7,
     "metadata": {},
     "output_type": "execute_result"
    }
   ],
   "source": [
    "df.head()"
   ]
  },
  {
   "cell_type": "code",
   "execution_count": 8,
   "metadata": {},
   "outputs": [
    {
     "data": {
      "text/plain": [
       "211"
      ]
     },
     "execution_count": 8,
     "metadata": {},
     "output_type": "execute_result"
    }
   ],
   "source": [
    "len(df)"
   ]
  },
  {
   "cell_type": "code",
   "execution_count": 13,
   "metadata": {},
   "outputs": [
    {
     "name": "stdout",
     "output_type": "stream",
     "text": [
      "VARIABLE:  GPA\n",
      "data1 mean value: 5.108404255319149\n",
      "data2 mean value: 5.018888888888889\n",
      "data1 std value: 0.3867323911276232\n",
      "data2 std value: 0.44090771920917593\n",
      "t-value 1.5473206466486475\n",
      "p-value 0.12329880915990875\n",
      "\n"
     ]
    }
   ],
   "source": [
    "data1, data2 = df[df['sec'] == 1], df[df['sec'] == 2]\n",
    "aux = t_test(data1, data2, variables)\n",
    "# aux.to_csv('../../results/h1_sections.csv', index=False)"
   ]
  },
  {
   "cell_type": "markdown",
   "metadata": {},
   "source": [
    "### (2.2) Clusters"
   ]
  },
  {
   "cell_type": "code",
   "execution_count": 14,
   "metadata": {},
   "outputs": [],
   "source": [
    "df_c = pd.merge(left=df, right=df_clusters, left_on='num_alumno', right_on='num_alumno')"
   ]
  },
  {
   "cell_type": "markdown",
   "metadata": {},
   "source": [
    "#### (2.2.1) EFFORT (a.k.a Blue)"
   ]
  },
  {
   "cell_type": "code",
   "execution_count": 15,
   "metadata": {},
   "outputs": [
    {
     "name": "stdout",
     "output_type": "stream",
     "text": [
      "VARIABLE:  GPA\n",
      "data1 mean value: 5.097391304347826\n",
      "data2 mean value: 5.039534883720931\n",
      "data1 std value: 0.27102863638208124\n",
      "data2 std value: 0.295408945671461\n",
      "t-value 0.7796505944875136\n",
      "p-value 0.4384702806529722\n",
      "\n"
     ]
    }
   ],
   "source": [
    "data1, data2 = df_c[(df_c['sec'] == 1) & (df_c['cluster'] == 0)], df_c[(df_c['sec'] == 2) & (df_c['cluster'] == 0)]\n",
    "aux = t_test(data1, data2, variables)\n",
    "# aux.to_csv('../../results/h1_cluster0.csv', index=False)"
   ]
  },
  {
   "cell_type": "markdown",
   "metadata": {},
   "source": [
    "#### (2.2.2) PRIOR KNOWLEDGE (a.k.a Orange)"
   ]
  },
  {
   "cell_type": "code",
   "execution_count": 16,
   "metadata": {},
   "outputs": [
    {
     "name": "stdout",
     "output_type": "stream",
     "text": [
      "VARIABLE:  GPA\n",
      "data1 mean value: 5.5825000000000005\n",
      "data2 mean value: 5.576190476190477\n",
      "data1 std value: 0.3126604851070381\n",
      "data2 std value: 0.3359683942051126\n",
      "t-value 0.0621703814076328\n",
      "p-value 0.9507446850419785\n",
      "\n"
     ]
    }
   ],
   "source": [
    "data1, data2 = df_c[(df_c['sec'] == 1) & (df_c['cluster'] == 1)], df_c[(df_c['sec'] == 2) & (df_c['cluster'] == 1)]\n",
    "aux = t_test(data1, data2, variables)\n",
    "# aux.to_csv('../../results/h1_cluster1.csv', index=False)"
   ]
  },
  {
   "cell_type": "markdown",
   "metadata": {},
   "source": [
    "#### (2.2.3) NO EFFORT (a.k.a Green)"
   ]
  },
  {
   "cell_type": "code",
   "execution_count": 17,
   "metadata": {},
   "outputs": [
    {
     "name": "stdout",
     "output_type": "stream",
     "text": [
      "VARIABLE:  GPA\n",
      "data1 mean value: 4.900487804878049\n",
      "data2 mean value: 4.736\n",
      "data1 std value: 0.2821165647344391\n",
      "data2 std value: 0.31814204213583436\n",
      "t-value 2.46350224303494\n",
      "p-value 0.015931974940320254\n",
      "\n"
     ]
    }
   ],
   "source": [
    "data1, data2 = df_c[(df_c['sec'] == 1) & (df_c['cluster'] == 2)], df_c[(df_c['sec'] == 2) & (df_c['cluster'] == 2)]\n",
    "aux = t_test(data1, data2, variables)\n",
    "# aux.to_csv('../../results/h1_cluster2.csv', index=False)"
   ]
  },
  {
   "cell_type": "code",
   "execution_count": null,
   "metadata": {},
   "outputs": [],
   "source": []
  }
 ],
 "metadata": {
  "kernelspec": {
   "display_name": "Python 3",
   "language": "python",
   "name": "python3"
  },
  "language_info": {
   "codemirror_mode": {
    "name": "ipython",
    "version": 3
   },
   "file_extension": ".py",
   "mimetype": "text/x-python",
   "name": "python",
   "nbconvert_exporter": "python",
   "pygments_lexer": "ipython3",
   "version": "3.7.1"
  }
 },
 "nbformat": 4,
 "nbformat_minor": 2
}
