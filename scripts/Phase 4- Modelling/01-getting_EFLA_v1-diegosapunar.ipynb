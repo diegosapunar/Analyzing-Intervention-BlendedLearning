{
 "cells": [
  {
   "cell_type": "markdown",
   "metadata": {},
   "source": [
    "# Gettin Evaluation Framework for Learning Analytics (EFLA)"
   ]
  },
  {
   "cell_type": "markdown",
   "metadata": {},
   "source": [
    "* **author** = Diego Sapunar-Opazo\n",
    "* **copyright** = Copyright 2019, Thesis M.Sc. Diego Sapunar - Pontificia Universidad Católica de Chile\n",
    "* **credits** = Diego Sapunar-Opazo, Ronald Perez, Mar Perez-Sanagustin, Jorge Maldonado-Mahauad\n",
    "* **maintainer** = Diego Sapunar-Opazo\n",
    "* **email** = dasapunar@uc.cl\n",
    "* **status** = Dev"
   ]
  },
  {
   "cell_type": "markdown",
   "metadata": {},
   "source": [
    "Source: http://www.laceproject.eu/evaluation-framework-for-la/\n",
    "\n",
    "The Evaluation Framework for Learning Analytics (EFLA) addresses the current lack of evaluation instruments by offering a standardised way to evaluate learning analytics tools and to measure and compare the impact of learning analytics on educational practices of learners and teachers. The EFLA makes use of the subjective assessments about learning analytics tools by their users in order to obtain a general indication of the overall quality of a tool in a quick and simple, yet thoroughly developed, validated and reliable way.\n",
    "\n",
    "The EFLA consists of the three dimensions Data, Awareness & Reflection, and Impact with a total of eight items. There is one version for learners and one version for teachers. All items are to be rated on a scale from 1 for ‘strongly disagree’ to 10 for ‘strongly agree’. The EFLA score can be any number between 0 and 100. In order to calculate a learning analytics tool’s EFLA score, the following steps should be taken per stakeholder group:\n",
    "\n",
    "(1) calculate the average value for each item based on the answers given for that item,\n",
    "\n",
    "(2) calculate the average value for each dimension based on the average of its items,\n",
    "\n",
    "(3) calculate the dimensional scores by rounding the result of ((x-1)/9)*100 where x is the average value of a dimension (in order to get a number between 0 and 100), and\n",
    "\n",
    "(4) calculate the overall EFLA score by taking the average of the three dimensional scores."
   ]
  },
  {
   "cell_type": "markdown",
   "metadata": {},
   "source": [
    "This script gets a survey done un Survey Monkey to the students and implement the framework metioned above, creating a csv file with:\n",
    "\n",
    "(1) **num_alumno**, which corresponds to the internal face-to-face students' id\n",
    "\n",
    "(2) **data_value**, which corresponds to the value of the Data dimension\n",
    "\n",
    "(3) **data_score**, which corresponds to the EFLA score of the Data dimension\n",
    "\n",
    "(4) **a&r_value**, which corresponds to the value of the Awareness & Reflection(a&r) dimension\n",
    "\n",
    "(5) **a&r_score**, which corresponds to the EFLA score of the Awareness & Reflection(a&r) dimension\n",
    "\n",
    "(6) **impact_value**, which corresponds to the value of the Impact dimension\n",
    "\n",
    "(7) **impact_score**, which corresponds to the EFLA score of the Impact dimension\n",
    "\n",
    "(8) **EFLA_score**, which corresponds to the EFLA score for that student\n",
    "\n",
    "(9) **recommend**, which is a boolean if would recommend NMP"
   ]
  },
  {
   "cell_type": "markdown",
   "metadata": {},
   "source": [
    "## Part 0: Import Packages"
   ]
  },
  {
   "cell_type": "code",
   "execution_count": 2,
   "metadata": {},
   "outputs": [],
   "source": [
    "# data analysis and wrangling\n",
    "import pandas as pd\n",
    "import numpy as np"
   ]
  },
  {
   "cell_type": "markdown",
   "metadata": {},
   "source": [
    "## Part 1: Getting the Data"
   ]
  },
  {
   "cell_type": "code",
   "execution_count": 8,
   "metadata": {},
   "outputs": [],
   "source": [
    "def read_data(path, header=False):\n",
    "    '''\n",
    "    Read a .csv file and convert it in a Pandas DataFrame.\n",
    "    \n",
    "    Input:\n",
    "    path - String: path where the .csv is located.\n",
    "    \n",
    "    Output:\n",
    "    Pandas DataFrame: .csv in the Pandas DataFrame format.\n",
    "    '''\n",
    "    if header:\n",
    "        return pd.read_csv(path, header=header)        \n",
    "    else:\n",
    "        return pd.read_csv(path)"
   ]
  },
  {
   "cell_type": "markdown",
   "metadata": {},
   "source": [
    "## Part 2: Data Preprocessing"
   ]
  },
  {
   "cell_type": "code",
   "execution_count": 67,
   "metadata": {},
   "outputs": [],
   "source": [
    "def preprocc_data(df, slices=False, columns_to_rename=False, categories=False, values_to_replace=False):\n",
    "    '''\n",
    "    From a dataframe on the fly, (1) get the necessary columns; (2) rename columns; and (3) clean data.\n",
    "    \n",
    "    Input: \n",
    "    df - Pandas DataFrame: dataframe to be cleaned.\n",
    "    columns_to_rename - Dict: Columns to rename, Key: original name, Value: new name.\n",
    "    categories - List of Strings: List of the names of the columns to be category type. If you renamed some columns, should be the new names.\n",
    "    values_to_replace - Dict- Values to replace, Key: original value, Value: new value.\n",
    "    \n",
    "    Output:\n",
    "    df - Pandas DataFrame: the dataframe already cleaned.\n",
    "    '''\n",
    "    \n",
    "    df_cleaned = df.copy()\n",
    "    \n",
    "    # slicing the columns, getting only the one that I need (num_alumno and seccion)\n",
    "    if slices:\n",
    "        df_cleaned = df_cleaned.iloc[:,10:-2]\n",
    "    \n",
    "    del df  # clean memory\n",
    "    \n",
    "    # rename columns\n",
    "    if columns_to_rename:\n",
    "        for index, col in enumerate(df_cleaned.columns):\n",
    "            if index == 0: pass\n",
    "            elif index == 9: columns_to_rename[col] = 'recommend'\n",
    "            else: columns_to_rename[col] = 'Q' + str(index)\n",
    "        \n",
    "        df_cleaned.rename(columns_to_rename, \n",
    "                          inplace=True, \n",
    "                          axis=1)\n",
    "    \n",
    "    if categories:\n",
    "        for cat in categories:\n",
    "            # creating categories\n",
    "            df_cleaned[cat] = df_cleaned[cat].astype('category')\n",
    "            \n",
    "    if values_to_replace:\n",
    "        df_cleaned.replace(values_to_replace, inplace=True)\n",
    "    \n",
    "    return df_cleaned"
   ]
  },
  {
   "cell_type": "code",
   "execution_count": 68,
   "metadata": {},
   "outputs": [],
   "source": [
    "def EFLA(df_original):\n",
    "    '''\n",
    "    Apply EFLA to the cleaned df.\n",
    "    \n",
    "    Input:\n",
    "    df_original - Pandas DataFrame: dataframe to calculate de EFLA.\n",
    "    \n",
    "    Output:\n",
    "    df - Pandas DataFrame: final dataframe.\n",
    "    '''\n",
    "    df = df_original.copy()\n",
    "    \n",
    "    df['data_value'] = (df['Q1'] + df['Q1'])/2\n",
    "    df['a&r_value'] = (df['Q3'] + df['Q4'] + df['Q5'] + df['Q6'])/4\n",
    "    df['impact_value'] = (df['Q7'] + df['Q8'])/2\n",
    "\n",
    "    df['data_score'] = ((df['data_value'] - 1)/9) * 100\n",
    "    df['a&r_score'] = ((df['a&r_value'] - 1)/9) * 100\n",
    "    df['impact_score'] = ((df['impact_value'] - 1)/9) * 100\n",
    "\n",
    "    df['EFLA_score'] = (df['data_score'] + df['a&r_score'] + df['impact_score'])/3\n",
    "    \n",
    "    return df"
   ]
  },
  {
   "cell_type": "code",
   "execution_count": 69,
   "metadata": {},
   "outputs": [],
   "source": [
    "def merging(df1, df2, variable1, variable2):\n",
    "    '''\n",
    "    Merge df1 and df2 over the variable.\n",
    "    \n",
    "    Input:\n",
    "    df1 - Pandas DataFrame\n",
    "    df2 - Pandas DataFrame\n",
    "    variable - String: name of the column to use as pivot.\n",
    "    \n",
    "    Output:\n",
    "    Pandas DataFrame\n",
    "    '''\n",
    "\n",
    "    df1.dropna(inplace=True)\n",
    "    df2.dropna(inplace=True)\n",
    "    \n",
    "    # getting same types\n",
    "    df1[variable1] = df1[variable1].astype('str')\n",
    "    df2[variable2] = df2[variable2].astype('str')\n",
    "    \n",
    "    return pd.merge(left=df1, right=df2, left_on=variable1, right_on=variable2)\n",
    "    "
   ]
  },
  {
   "cell_type": "markdown",
   "metadata": {},
   "source": [
    "## Part 3: Export Data"
   ]
  },
  {
   "cell_type": "code",
   "execution_count": 70,
   "metadata": {},
   "outputs": [],
   "source": [
    "def export_data(df, path, columns_to_drop=False):\n",
    "    '''\n",
    "    Export df in .csv file to the path.\n",
    "    \n",
    "    Input:\n",
    "    df - Pandas DataFrame: dataframe to be exported.\n",
    "    path - String: path where the .csv will be exported.\n",
    "    '''\n",
    "    if columns_to_drop:\n",
    "        df.drop(columns_to_drop, axis=1, inplace=True)\n",
    "        \n",
    "    df.to_csv(path, index=False)"
   ]
  },
  {
   "cell_type": "markdown",
   "metadata": {},
   "source": [
    "# Part 4: Main"
   ]
  },
  {
   "cell_type": "code",
   "execution_count": 78,
   "metadata": {},
   "outputs": [],
   "source": [
    "# getting data\n",
    "_EFLA_path = '../data/original_data/surveys/EFLA_survey.csv'\n",
    "df_EFLA = read_data(_EFLA_path, header=1)\n",
    "\n",
    "_students_emails_path = '../data/final_model/students_email.csv'\n",
    "df_students_emails = read_data(_students_emails_path)\n",
    "\n",
    "# preprocc\n",
    "_columns_to_rename = {'Open-Ended Response': 'student_email'}\n",
    "_values_to_replace = {'1 (Totalmente en desacuerdo)': 1,\n",
    "                    '2': 2,\n",
    "                    '3': 3,\n",
    "                    '4': 4,\n",
    "                    '5': 5,\n",
    "                    '6': 6,\n",
    "                    '7': 7,\n",
    "                    '8': 8,\n",
    "                    '9': 9,\n",
    "                    '10\\xa0(Totalmente de acuerdo)': 10}\n",
    "\n",
    "df_EFLA = preprocc_data(df_EFLA, \n",
    "                        slices=True,\n",
    "                        columns_to_rename=_columns_to_rename, \n",
    "                        categories=['recommend'], \n",
    "                        values_to_replace=_values_to_replace)\n",
    "\n",
    "# merging\n",
    "df_EFLA = merging(df_EFLA, df_students_emails, \n",
    "                  'student_email', 'student_email')\n",
    "\n",
    "# EFLA\n",
    "df_EFLA = EFLA(df_EFLA)\n",
    "\n",
    "# export data\n",
    "columns_to_drop = ['Q'+str(i) for i in range(1,9)] + ['student_email']\n",
    "_EFLA_export_path = '../data/final_model/NMP_EFLA.csv'\n",
    "export_data(df_EFLA, _EFLA_export_path, columns_to_drop)"
   ]
  },
  {
   "cell_type": "code",
   "execution_count": 82,
   "metadata": {},
   "outputs": [
    {
     "data": {
      "text/html": [
       "<div>\n",
       "<style scoped>\n",
       "    .dataframe tbody tr th:only-of-type {\n",
       "        vertical-align: middle;\n",
       "    }\n",
       "\n",
       "    .dataframe tbody tr th {\n",
       "        vertical-align: top;\n",
       "    }\n",
       "\n",
       "    .dataframe thead th {\n",
       "        text-align: right;\n",
       "    }\n",
       "</style>\n",
       "<table border=\"1\" class=\"dataframe\">\n",
       "  <thead>\n",
       "    <tr style=\"text-align: right;\">\n",
       "      <th></th>\n",
       "      <th>recommend</th>\n",
       "      <th>num_alumno</th>\n",
       "      <th>data_value</th>\n",
       "      <th>a&amp;r_value</th>\n",
       "      <th>impact_value</th>\n",
       "      <th>data_score</th>\n",
       "      <th>a&amp;r_score</th>\n",
       "      <th>impact_score</th>\n",
       "      <th>EFLA_score</th>\n",
       "    </tr>\n",
       "  </thead>\n",
       "  <tbody>\n",
       "    <tr>\n",
       "      <th>0</th>\n",
       "      <td>NO</td>\n",
       "      <td>16622480</td>\n",
       "      <td>3.0</td>\n",
       "      <td>2.00</td>\n",
       "      <td>1.0</td>\n",
       "      <td>22.222222</td>\n",
       "      <td>11.111111</td>\n",
       "      <td>0.000000</td>\n",
       "      <td>11.111111</td>\n",
       "    </tr>\n",
       "    <tr>\n",
       "      <th>1</th>\n",
       "      <td>NO</td>\n",
       "      <td>13636596</td>\n",
       "      <td>6.0</td>\n",
       "      <td>4.75</td>\n",
       "      <td>3.5</td>\n",
       "      <td>55.555556</td>\n",
       "      <td>41.666667</td>\n",
       "      <td>27.777778</td>\n",
       "      <td>41.666667</td>\n",
       "    </tr>\n",
       "    <tr>\n",
       "      <th>2</th>\n",
       "      <td>NO</td>\n",
       "      <td>1663716J</td>\n",
       "      <td>8.0</td>\n",
       "      <td>4.75</td>\n",
       "      <td>3.0</td>\n",
       "      <td>77.777778</td>\n",
       "      <td>41.666667</td>\n",
       "      <td>22.222222</td>\n",
       "      <td>47.222222</td>\n",
       "    </tr>\n",
       "    <tr>\n",
       "      <th>3</th>\n",
       "      <td>NO</td>\n",
       "      <td>15638650</td>\n",
       "      <td>7.0</td>\n",
       "      <td>2.00</td>\n",
       "      <td>1.0</td>\n",
       "      <td>66.666667</td>\n",
       "      <td>11.111111</td>\n",
       "      <td>0.000000</td>\n",
       "      <td>25.925926</td>\n",
       "    </tr>\n",
       "    <tr>\n",
       "      <th>4</th>\n",
       "      <td>SI</td>\n",
       "      <td>16623029</td>\n",
       "      <td>6.0</td>\n",
       "      <td>6.00</td>\n",
       "      <td>5.5</td>\n",
       "      <td>55.555556</td>\n",
       "      <td>55.555556</td>\n",
       "      <td>50.000000</td>\n",
       "      <td>53.703704</td>\n",
       "    </tr>\n",
       "  </tbody>\n",
       "</table>\n",
       "</div>"
      ],
      "text/plain": [
       "  recommend num_alumno  data_value  a&r_value  impact_value  data_score  \\\n",
       "0        NO   16622480         3.0       2.00           1.0   22.222222   \n",
       "1        NO   13636596         6.0       4.75           3.5   55.555556   \n",
       "2        NO   1663716J         8.0       4.75           3.0   77.777778   \n",
       "3        NO   15638650         7.0       2.00           1.0   66.666667   \n",
       "4        SI   16623029         6.0       6.00           5.5   55.555556   \n",
       "\n",
       "   a&r_score  impact_score  EFLA_score  \n",
       "0  11.111111      0.000000   11.111111  \n",
       "1  41.666667     27.777778   41.666667  \n",
       "2  41.666667     22.222222   47.222222  \n",
       "3  11.111111      0.000000   25.925926  \n",
       "4  55.555556     50.000000   53.703704  "
      ]
     },
     "execution_count": 82,
     "metadata": {},
     "output_type": "execute_result"
    }
   ],
   "source": [
    "df_EFLA.head()"
   ]
  },
  {
   "cell_type": "code",
   "execution_count": null,
   "metadata": {},
   "outputs": [],
   "source": []
  }
 ],
 "metadata": {
  "kernelspec": {
   "display_name": "Python 3",
   "language": "python",
   "name": "python3"
  },
  "language_info": {
   "codemirror_mode": {
    "name": "ipython",
    "version": 3
   },
   "file_extension": ".py",
   "mimetype": "text/x-python",
   "name": "python",
   "nbconvert_exporter": "python",
   "pygments_lexer": "ipython3",
   "version": "3.7.1"
  }
 },
 "nbformat": 4,
 "nbformat_minor": 2
}
